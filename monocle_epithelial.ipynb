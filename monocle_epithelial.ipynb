{
 "cells": [
  {
   "cell_type": "code",
   "execution_count": 2,
   "metadata": {},
   "outputs": [
    {
     "name": "stderr",
     "output_type": "stream",
     "text": [
      "Loading required package: Biobase\n",
      "Loading required package: BiocGenerics\n",
      "Loading required package: parallel\n",
      "\n",
      "Attaching package: ‘BiocGenerics’\n",
      "\n",
      "The following objects are masked from ‘package:parallel’:\n",
      "\n",
      "    clusterApply, clusterApplyLB, clusterCall, clusterEvalQ,\n",
      "    clusterExport, clusterMap, parApply, parCapply, parLapply,\n",
      "    parLapplyLB, parRapply, parSapply, parSapplyLB\n",
      "\n",
      "The following objects are masked from ‘package:stats’:\n",
      "\n",
      "    IQR, mad, sd, var, xtabs\n",
      "\n",
      "The following objects are masked from ‘package:base’:\n",
      "\n",
      "    anyDuplicated, append, as.data.frame, basename, cbind, colnames,\n",
      "    dirname, do.call, duplicated, eval, evalq, Filter, Find, get, grep,\n",
      "    grepl, intersect, is.unsorted, lapply, Map, mapply, match, mget,\n",
      "    order, paste, pmax, pmax.int, pmin, pmin.int, Position, rank,\n",
      "    rbind, Reduce, rownames, sapply, setdiff, sort, table, tapply,\n",
      "    union, unique, unsplit, which, which.max, which.min\n",
      "\n",
      "Welcome to Bioconductor\n",
      "\n",
      "    Vignettes contain introductory material; view with\n",
      "    'browseVignettes()'. To cite Bioconductor, see\n",
      "    'citation(\"Biobase\")', and for packages 'citation(\"pkgname\")'.\n",
      "\n",
      "Loading required package: SingleCellExperiment\n",
      "Loading required package: SummarizedExperiment\n",
      "Loading required package: GenomicRanges\n",
      "Loading required package: stats4\n",
      "Loading required package: S4Vectors\n",
      "\n",
      "Attaching package: ‘S4Vectors’\n",
      "\n",
      "The following object is masked from ‘package:base’:\n",
      "\n",
      "    expand.grid\n",
      "\n",
      "Loading required package: IRanges\n",
      "Loading required package: GenomeInfoDb\n",
      "Loading required package: DelayedArray\n",
      "Loading required package: matrixStats\n",
      "\n",
      "Attaching package: ‘matrixStats’\n",
      "\n",
      "The following objects are masked from ‘package:Biobase’:\n",
      "\n",
      "    anyMissing, rowMedians\n",
      "\n",
      "Loading required package: BiocParallel\n",
      "\n",
      "Attaching package: ‘DelayedArray’\n",
      "\n",
      "The following objects are masked from ‘package:matrixStats’:\n",
      "\n",
      "    colMaxs, colMins, colRanges, rowMaxs, rowMins, rowRanges\n",
      "\n",
      "The following objects are masked from ‘package:base’:\n",
      "\n",
      "    aperm, apply, rowsum\n",
      "\n",
      "\n",
      "Attaching package: ‘monocle3’\n",
      "\n",
      "The following objects are masked from ‘package:Biobase’:\n",
      "\n",
      "    exprs, fData, fData<-, pData, pData<-\n",
      "\n"
     ]
    }
   ],
   "source": [
    "library(monocle3)"
   ]
  },
  {
   "cell_type": "code",
   "execution_count": 3,
   "metadata": {},
   "outputs": [
    {
     "name": "stderr",
     "output_type": "stream",
     "text": [
      "Registered S3 method overwritten by 'R.oo':\n",
      "  method        from       \n",
      "  throw.default R.methodsS3\n",
      "\n",
      "Attaching package: ‘Seurat’\n",
      "\n",
      "The following object is masked from ‘package:SummarizedExperiment’:\n",
      "\n",
      "    Assays\n",
      "\n",
      "\n",
      "Attaching package: ‘Matrix’\n",
      "\n",
      "The following object is masked from ‘package:S4Vectors’:\n",
      "\n",
      "    expand\n",
      "\n",
      "\n",
      "********************************************************\n",
      "Note: As of version 1.0.0, cowplot does not change the\n",
      "  default ggplot2 theme anymore. To recover the previous\n",
      "  behavior, execute:\n",
      "  theme_set(theme_cowplot())\n",
      "********************************************************\n",
      "\n",
      "\n",
      "Attaching package: ‘dplyr’\n",
      "\n",
      "The following object is masked from ‘package:matrixStats’:\n",
      "\n",
      "    count\n",
      "\n",
      "The following objects are masked from ‘package:GenomicRanges’:\n",
      "\n",
      "    intersect, setdiff, union\n",
      "\n",
      "The following object is masked from ‘package:GenomeInfoDb’:\n",
      "\n",
      "    intersect\n",
      "\n",
      "The following objects are masked from ‘package:IRanges’:\n",
      "\n",
      "    collapse, desc, intersect, setdiff, slice, union\n",
      "\n",
      "The following objects are masked from ‘package:S4Vectors’:\n",
      "\n",
      "    first, intersect, rename, setdiff, setequal, union\n",
      "\n",
      "The following object is masked from ‘package:Biobase’:\n",
      "\n",
      "    combine\n",
      "\n",
      "The following objects are masked from ‘package:BiocGenerics’:\n",
      "\n",
      "    combine, intersect, setdiff, union\n",
      "\n",
      "The following objects are masked from ‘package:stats’:\n",
      "\n",
      "    filter, lag\n",
      "\n",
      "The following objects are masked from ‘package:base’:\n",
      "\n",
      "    intersect, setdiff, setequal, union\n",
      "\n",
      "Welcome to enrichR\n",
      "Checking connection ... EnrichR website not responding\n"
     ]
    }
   ],
   "source": [
    "library(Seurat)\n",
    "library(Matrix)\n",
    "library(ggplot2)\n",
    "library(cowplot)\n",
    "library(dplyr)\n",
    "library(enrichR)"
   ]
  },
  {
   "cell_type": "code",
   "execution_count": 4,
   "metadata": {},
   "outputs": [],
   "source": [
    "library(schex)"
   ]
  },
  {
   "cell_type": "code",
   "execution_count": 5,
   "metadata": {},
   "outputs": [],
   "source": [
    "load('N-stomach-fibroblasts.RData')\n",
    "load('N-stomach-endothelials.RData')\n",
    "load('N-stomach-macrophages.RData')\n",
    "load('N-stomach-epithelials.RData')\n",
    "load('N-stomach-immunes.RData')"
   ]
  },
  {
   "cell_type": "code",
   "execution_count": 6,
   "metadata": {},
   "outputs": [],
   "source": [
    "load('N-stomach-all.RData')"
   ]
  },
  {
   "cell_type": "code",
   "execution_count": 7,
   "metadata": {},
   "outputs": [],
   "source": [
    "library(RaceID)"
   ]
  },
  {
   "cell_type": "code",
   "execution_count": 8,
   "metadata": {},
   "outputs": [
    {
     "ename": "ERROR",
     "evalue": "Error in system(paste(which, shQuote(names[i])), intern = TRUE, ignore.stderr = TRUE): cannot popen '/usr/bin/which 'python' 2>/dev/null', probable reason 'Resource temporarily unavailable'\n",
     "output_type": "error",
     "traceback": [
      "Error in system(paste(which, shQuote(names[i])), intern = TRUE, ignore.stderr = TRUE): cannot popen '/usr/bin/which 'python' 2>/dev/null', probable reason 'Resource temporarily unavailable'\nTraceback:\n",
      "1. reticulate::import(module = \"umap\")",
      "2. ensure_python_initialized(required_module = module)",
      "3. initialize_python(required_module, use_environment)",
      "4. py_discover_config(required_module, use_environment)",
      "5. Sys.which(\"python\")",
      "6. suppressWarnings(system(paste(which, shQuote(names[i])), intern = TRUE, \n .     ignore.stderr = TRUE))",
      "7. withCallingHandlers(expr, warning = function(w) invokeRestart(\"muffleWarning\"))",
      "8. system(paste(which, shQuote(names[i])), intern = TRUE, ignore.stderr = TRUE)"
     ]
    }
   ],
   "source": [
    "reticulate::import(module='umap')"
   ]
  },
  {
   "cell_type": "code",
   "execution_count": 10,
   "metadata": {},
   "outputs": [],
   "source": [
    "UMAP <- function(data.integrated, dims=1:30){\n",
    "    data.integrated <- RunPCA(data.integrated, verbose = FALSE)\n",
    "    data.integrated <- RunUMAP(data.integrated, dims = 1:30, verbose = FALSE, umap.method = 'umap-learn', metric = 'correlation')\n",
    "    data.integrated <- FindNeighbors(data.integrated, dims = 1:30, verbose = FALSE)\n",
    "    data.integrated <- FindClusters(data.integrated, verbose = FALSE)\n",
    "    return (data.integrated)\n",
    "}"
   ]
  },
  {
   "cell_type": "markdown",
   "metadata": {},
   "source": [
    "# monocle3 準備"
   ]
  },
  {
   "cell_type": "code",
   "execution_count": 11,
   "metadata": {},
   "outputs": [],
   "source": [
    "gene_annotation <-\n",
    "as.data.frame(rownames(epithelials@reductions[['pca']]@feature.loadings), row.names =\n",
    "                      rownames(epithelials@reductions[['pca']]@feature.loadings))\n",
    "colnames(gene_annotation) <- 'gene_short_name'"
   ]
  },
  {
   "cell_type": "code",
   "execution_count": 12,
   "metadata": {},
   "outputs": [],
   "source": [
    "# 不要？\n",
    "cell_metadata <- as.data.frame(epithelials@assays[['RNA']]@counts@Dimnames[[2]],\n",
    "\n",
    "rownames = epithelials@assays[['RNA']]@counts@Dimnames[[2]])\n",
    "\n",
    "colnames(cell_metadata) <- 'barcode'"
   ]
  },
  {
   "cell_type": "code",
   "execution_count": 13,
   "metadata": {},
   "outputs": [],
   "source": [
    "New_matrix <- epithelials@assays[['RNA']]@counts\n",
    "New_matrix <- New_matrix[rownames(epithelials@reductions[['pca']]@feature.loadings),]\n",
    "expression_matrix <- New_matrix"
   ]
  },
  {
   "cell_type": "code",
   "execution_count": 14,
   "metadata": {},
   "outputs": [
    {
     "data": {
      "text/html": [
       "<ol class=list-inline>\n",
       "\t<li>2000</li>\n",
       "\t<li>3948</li>\n",
       "</ol>\n"
      ],
      "text/latex": [
       "\\begin{enumerate*}\n",
       "\\item 2000\n",
       "\\item 3948\n",
       "\\end{enumerate*}\n"
      ],
      "text/markdown": [
       "1. 2000\n",
       "2. 3948\n",
       "\n",
       "\n"
      ],
      "text/plain": [
       "[1] 2000 3948"
      ]
     },
     "metadata": {},
     "output_type": "display_data"
    }
   ],
   "source": [
    "dim(expression_matrix)"
   ]
  },
  {
   "cell_type": "code",
   "execution_count": 15,
   "metadata": {},
   "outputs": [],
   "source": [
    "cds_from_seurat <- new_cell_data_set(expression_matrix,\n",
    "                                    cell_metadata = NULL,\n",
    "                                    gene_metadata = gene_annotation)"
   ]
  },
  {
   "cell_type": "code",
   "execution_count": 16,
   "metadata": {},
   "outputs": [],
   "source": [
    "cds <- cds_from_seurat"
   ]
  },
  {
   "cell_type": "code",
   "execution_count": 17,
   "metadata": {},
   "outputs": [],
   "source": [
    "cds <- preprocess_cds(cds, method = 'PCA',num_dim = 50)"
   ]
  },
  {
   "cell_type": "code",
   "execution_count": 18,
   "metadata": {},
   "outputs": [],
   "source": [
    "library(reticulate)\n",
    "# conda_install(packages = 'umap-learn') "
   ]
  },
  {
   "cell_type": "code",
   "execution_count": 18,
   "metadata": {},
   "outputs": [],
   "source": [
    "conda_install(packages = 'louvain')"
   ]
  },
  {
   "cell_type": "code",
   "execution_count": 19,
   "metadata": {},
   "outputs": [
    {
     "ename": "ERROR",
     "evalue": "Error in py_module_import(module, convert = convert): ModuleNotFoundError: No module named 'louvain'\n",
     "output_type": "error",
     "traceback": [
      "Error in py_module_import(module, convert = convert): ModuleNotFoundError: No module named 'louvain'\nTraceback:\n",
      "1. import(module = \"louvain\")",
      "2. py_module_import(module, convert = convert)"
     ]
    }
   ],
   "source": [
    "import(module=\"louvain\")"
   ]
  },
  {
   "cell_type": "code",
   "execution_count": 19,
   "metadata": {},
   "outputs": [
    {
     "data": {
      "image/png": "[encoded data removed]",
      "text/plain": [
       "plot without title"
      ]
     },
     "metadata": {},
     "output_type": "display_data"
    }
   ],
   "source": [
    "plot_pc_variance_explained(cds)"
   ]
  },
  {
   "cell_type": "code",
   "execution_count": null,
   "metadata": {},
   "outputs": [
    {
     "name": "stderr",
     "output_type": "stream",
     "text": [
      "No preprocess_method specified, using preprocess_method = 'PCA'\n"
     ]
    }
   ],
   "source": [
    "cds <- reduce_dimension(cds,reduction_method = 'UMAP')"
   ]
  },
  {
   "cell_type": "markdown",
   "metadata": {},
   "source": [
    "# ↑now (12/4 22:00)"
   ]
  },
  {
   "cell_type": "code",
   "execution_count": 1,
   "metadata": {},
   "outputs": [
    {
     "ename": "ERROR",
     "evalue": "Error in plot_cells(cds): could not find function \"plot_cells\"\n",
     "output_type": "error",
     "traceback": [
      "Error in plot_cells(cds): could not find function \"plot_cells\"\nTraceback:\n"
     ]
    }
   ],
   "source": [
    "plot_cells(cds)"
   ]
  },
  {
   "cell_type": "code",
   "execution_count": 10,
   "metadata": {},
   "outputs": [
    {
     "ename": "ERROR",
     "evalue": "Error in importCDS(epithelials): could not find function \"importCDS\"\n",
     "output_type": "error",
     "traceback": [
      "Error in importCDS(epithelials): could not find function \"importCDS\"\nTraceback:\n"
     ]
    }
   ],
   "source": [
    "importCDS(epithelials)"
   ]
  },
  {
   "cell_type": "code",
   "execution_count": 11,
   "metadata": {},
   "outputs": [],
   "source": [
    "#Extract count data, phenotype data, and feature data from the Seurat Object.\n",
    "counts.data <- as(as.matrix(epithelials@assays$RNA@data), 'sparseMatrix')\n",
    "pheno.data <- new('AnnotatedDataFrame', data = epithelials@meta.data)\n",
    "feature.data <- data.frame(gene_short_name = row.names(counts.data), row.names = row.names(counts.data))\n",
    "feature.data <- new('AnnotatedDataFrame', data = feature.data)\n"
   ]
  },
  {
   "cell_type": "code",
   "execution_count": 20,
   "metadata": {},
   "outputs": [
    {
     "ename": "ERROR",
     "evalue": "Error in as.data.frame.default(from, stringsAsFactors = FALSE): cannot coerce class ‘structure(\"AnnotatedDataFrame\", package = \"Biobase\")’ to a data.frame\n",
     "output_type": "error",
     "traceback": [
      "Error in as.data.frame.default(from, stringsAsFactors = FALSE): cannot coerce class ‘structure(\"AnnotatedDataFrame\", package = \"Biobase\")’ to a data.frame\nTraceback:\n",
      "1. new_cell_data_set(counts.data, cell_metadata = NULL, gene_metadata = feature.data)",
      "2. SingleCellExperiment(list(counts = methods::as(expression_data, \n .     \"dgCMatrix\")), rowData = gene_metadata, colData = cell_metadata)",
      "3. SummarizedExperiment(...)",
      "4. as(rowData, \"DataFrame\")",
      "5. asMethod(object)",
      "6. as(from, \"DFrame\")",
      "7. asMethod(object)",
      "8. as.data.frame(from, stringsAsFactors = FALSE)",
      "9. as.data.frame(from, stringsAsFactors = FALSE)",
      "10. as.data.frame.default(from, stringsAsFactors = FALSE)",
      "11. stop(gettextf(\"cannot coerce class %s to a data.frame\", sQuote(deparse(class(x))[1L])), \n  .     domain = NA)"
     ]
    }
   ],
   "source": [
    "#Construct a CellDataSet.\n",
    "cds <- new_cell_data_set(counts.data, cell_metadata = NULL,\n",
    "                      gene_metadata = feature.data)"
   ]
  },
  {
   "cell_type": "code",
   "execution_count": null,
   "metadata": {},
   "outputs": [],
   "source": []
  }
 ],
 "metadata": {
  "kernelspec": {
   "display_name": "R_Seurat",
   "language": "R",
   "name": "seurat"
  },
  "language_info": {
   "codemirror_mode": "r",
   "file_extension": ".r",
   "mimetype": "text/x-r-source",
   "name": "R",
   "pygments_lexer": "r",
   "version": "3.6.1"
  }
 },
 "nbformat": 4,
 "nbformat_minor": 2
}
