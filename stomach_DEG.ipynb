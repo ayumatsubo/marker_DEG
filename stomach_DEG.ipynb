{
 "cells": [
  {
   "cell_type": "code",
   "execution_count": 1,
   "metadata": {},
   "outputs": [
    {
     "name": "stderr",
     "output_type": "stream",
     "text": [
      "\n",
      "Attaching package: ‘cowplot’\n",
      "\n",
      "The following object is masked from ‘package:ggplot2’:\n",
      "\n",
      "    ggsave\n",
      "\n",
      "\n",
      "Attaching package: ‘dplyr’\n",
      "\n",
      "The following objects are masked from ‘package:stats’:\n",
      "\n",
      "    filter, lag\n",
      "\n",
      "The following objects are masked from ‘package:base’:\n",
      "\n",
      "    intersect, setdiff, setequal, union\n",
      "\n"
     ]
    }
   ],
   "source": [
    "library(Seurat)\n",
    "library(Matrix)\n",
    "library(ggplot2)\n",
    "library(cowplot)\n",
    "library(dplyr)\n",
    "library(enrichR)"
   ]
  },
  {
   "cell_type": "code",
   "execution_count": 2,
   "metadata": {},
   "outputs": [
    {
     "name": "stderr",
     "output_type": "stream",
     "text": [
      "Loading required package: S4Vectors\n",
      "Loading required package: stats4\n",
      "Loading required package: BiocGenerics\n",
      "Loading required package: parallel\n",
      "\n",
      "Attaching package: ‘BiocGenerics’\n",
      "\n",
      "The following objects are masked from ‘package:parallel’:\n",
      "\n",
      "    clusterApply, clusterApplyLB, clusterCall, clusterEvalQ,\n",
      "    clusterExport, clusterMap, parApply, parCapply, parLapply,\n",
      "    parLapplyLB, parRapply, parSapply, parSapplyLB\n",
      "\n",
      "The following objects are masked from ‘package:dplyr’:\n",
      "\n",
      "    combine, intersect, setdiff, union\n",
      "\n",
      "The following objects are masked from ‘package:Matrix’:\n",
      "\n",
      "    colMeans, colSums, rowMeans, rowSums, which\n",
      "\n",
      "The following objects are masked from ‘package:stats’:\n",
      "\n",
      "    IQR, mad, sd, var, xtabs\n",
      "\n",
      "The following objects are masked from ‘package:base’:\n",
      "\n",
      "    anyDuplicated, append, as.data.frame, basename, cbind, colMeans,\n",
      "    colnames, colSums, dirname, do.call, duplicated, eval, evalq,\n",
      "    Filter, Find, get, grep, grepl, intersect, is.unsorted, lapply,\n",
      "    lengths, Map, mapply, match, mget, order, paste, pmax, pmax.int,\n",
      "    pmin, pmin.int, Position, rank, rbind, Reduce, rowMeans, rownames,\n",
      "    rowSums, sapply, setdiff, sort, table, tapply, union, unique,\n",
      "    unsplit, which, which.max, which.min\n",
      "\n",
      "\n",
      "Attaching package: ‘S4Vectors’\n",
      "\n",
      "The following objects are masked from ‘package:dplyr’:\n",
      "\n",
      "    first, rename\n",
      "\n",
      "The following object is masked from ‘package:Matrix’:\n",
      "\n",
      "    expand\n",
      "\n",
      "The following object is masked from ‘package:base’:\n",
      "\n",
      "    expand.grid\n",
      "\n",
      "Loading required package: IRanges\n",
      "\n",
      "Attaching package: ‘IRanges’\n",
      "\n",
      "The following objects are masked from ‘package:dplyr’:\n",
      "\n",
      "    collapse, desc, slice\n",
      "\n",
      "Loading required package: GenomicRanges\n",
      "Loading required package: GenomeInfoDb\n",
      "Loading required package: SummarizedExperiment\n",
      "Loading required package: Biobase\n",
      "Welcome to Bioconductor\n",
      "\n",
      "    Vignettes contain introductory material; view with\n",
      "    'browseVignettes()'. To cite Bioconductor, see\n",
      "    'citation(\"Biobase\")', and for packages 'citation(\"pkgname\")'.\n",
      "\n",
      "Loading required package: DelayedArray\n",
      "Loading required package: matrixStats\n",
      "\n",
      "Attaching package: ‘matrixStats’\n",
      "\n",
      "The following objects are masked from ‘package:Biobase’:\n",
      "\n",
      "    anyMissing, rowMedians\n",
      "\n",
      "The following object is masked from ‘package:dplyr’:\n",
      "\n",
      "    count\n",
      "\n",
      "Loading required package: BiocParallel\n",
      "\n",
      "Attaching package: ‘DelayedArray’\n",
      "\n",
      "The following objects are masked from ‘package:matrixStats’:\n",
      "\n",
      "    colMaxs, colMins, colRanges, rowMaxs, rowMins, rowRanges\n",
      "\n",
      "The following objects are masked from ‘package:base’:\n",
      "\n",
      "    aperm, apply\n",
      "\n"
     ]
    }
   ],
   "source": [
    "library(DESeq2)"
   ]
  },
  {
   "cell_type": "code",
   "execution_count": 3,
   "metadata": {},
   "outputs": [],
   "source": [
    "load('stomach.Rdata')"
   ]
  },
  {
   "cell_type": "code",
   "execution_count": 4,
   "metadata": {},
   "outputs": [
    {
     "data": {
      "text/plain": [
       "An object of class Seurat \n",
       "18697 features across 2855 samples within 2 assays \n",
       "Active assay: integrated (2000 features)\n",
       " 1 other assay present: RNA\n",
       " 2 dimensional reductions calculated: pca, tsne"
      ]
     },
     "metadata": {},
     "output_type": "display_data"
    }
   ],
   "source": [
    "stomach"
   ]
  },
  {
   "cell_type": "code",
   "execution_count": 29,
   "metadata": {},
   "outputs": [
    {
     "name": "stdout",
     "output_type": "stream",
     "text": [
      "[1] 3  5  7  13\n",
      "Levels: 3 5 7 13\n",
      "[1] 1237\n",
      "[1] 759\n",
      "[1] 641\n",
      "[1] 218\n"
     ]
    }
   ],
   "source": [
    "# 細胞のクラスターとそれぞれの数\n",
    "print(unique(stomach@active.ident))\n",
    "print(count(stomach@active.ident==3))\n",
    "print(count(stomach@active.ident==5))\n",
    "print(count(stomach@active.ident==7))\n",
    "print(count(stomach@active.ident==13))"
   ]
  },
  {
   "cell_type": "markdown",
   "metadata": {},
   "source": [
    "# cluster 3 -> 1237個"
   ]
  },
  {
   "cell_type": "markdown",
   "metadata": {},
   "source": [
    "10N->1, 11N->2, 6N->3, 8N->4, 9N->5"
   ]
  },
  {
   "cell_type": "code",
   "execution_count": 85,
   "metadata": {},
   "outputs": [],
   "source": [
    "# 10N-total　かつ　cluster3\n",
    "a <- stomach@meta.data[stomach@meta.data[,1]=='10N-total',]\n",
    "b <- a[a$integrated_snn_res.0.8==3,]\n",
    "cluster3_10N_total = rownames(b)"
   ]
  },
  {
   "cell_type": "code",
   "execution_count": 81,
   "metadata": {},
   "outputs": [
    {
     "data": {
      "text/html": [
       "<ol class=list-inline>\n",
       "\t<li>193</li>\n",
       "\t<li>6</li>\n",
       "</ol>\n"
      ],
      "text/latex": [
       "\\begin{enumerate*}\n",
       "\\item 193\n",
       "\\item 6\n",
       "\\end{enumerate*}\n"
      ],
      "text/markdown": [
       "1. 193\n",
       "2. 6\n",
       "\n",
       "\n"
      ],
      "text/plain": [
       "[1] 193   6"
      ]
     },
     "metadata": {},
     "output_type": "display_data"
    }
   ],
   "source": [
    "stomach@meta.data %>% filter(orig.ident=='10N-total') %>% \n",
    "filter(integrated_snn_res.0.8 =='3') %>%\n",
    "dim"
   ]
  },
  {
   "cell_type": "code",
   "execution_count": 31,
   "metadata": {},
   "outputs": [
    {
     "data": {
      "text/html": [
       "<ol class=list-inline>\n",
       "\t<li>103</li>\n",
       "\t<li>6</li>\n",
       "</ol>\n"
      ],
      "text/latex": [
       "\\begin{enumerate*}\n",
       "\\item 103\n",
       "\\item 6\n",
       "\\end{enumerate*}\n"
      ],
      "text/markdown": [
       "1. 103\n",
       "2. 6\n",
       "\n",
       "\n"
      ],
      "text/plain": [
       "[1] 103   6"
      ]
     },
     "metadata": {},
     "output_type": "display_data"
    }
   ],
   "source": [
    "stomach@meta.data %>% filter(orig.ident=='11N-total') %>% \n",
    "filter(integrated_snn_res.0.8 =='3') %>%\n",
    "dim"
   ]
  },
  {
   "cell_type": "code",
   "execution_count": 32,
   "metadata": {},
   "outputs": [
    {
     "data": {
      "text/html": [
       "<ol class=list-inline>\n",
       "\t<li>497</li>\n",
       "\t<li>6</li>\n",
       "</ol>\n"
      ],
      "text/latex": [
       "\\begin{enumerate*}\n",
       "\\item 497\n",
       "\\item 6\n",
       "\\end{enumerate*}\n"
      ],
      "text/markdown": [
       "1. 497\n",
       "2. 6\n",
       "\n",
       "\n"
      ],
      "text/plain": [
       "[1] 497   6"
      ]
     },
     "metadata": {},
     "output_type": "display_data"
    }
   ],
   "source": [
    "stomach@meta.data %>% filter(orig.ident=='9N-total') %>% \n",
    "filter(integrated_snn_res.0.8 =='3') %>%\n",
    "dim"
   ]
  },
  {
   "cell_type": "code",
   "execution_count": 33,
   "metadata": {},
   "outputs": [
    {
     "data": {
      "text/html": [
       "<ol class=list-inline>\n",
       "\t<li>339</li>\n",
       "\t<li>6</li>\n",
       "</ol>\n"
      ],
      "text/latex": [
       "\\begin{enumerate*}\n",
       "\\item 339\n",
       "\\item 6\n",
       "\\end{enumerate*}\n"
      ],
      "text/markdown": [
       "1. 339\n",
       "2. 6\n",
       "\n",
       "\n"
      ],
      "text/plain": [
       "[1] 339   6"
      ]
     },
     "metadata": {},
     "output_type": "display_data"
    }
   ],
   "source": [
    "stomach@meta.data %>% filter(orig.ident=='6N-total') %>% \n",
    "filter(integrated_snn_res.0.8 =='3') %>%\n",
    "dim"
   ]
  },
  {
   "cell_type": "code",
   "execution_count": 34,
   "metadata": {},
   "outputs": [
    {
     "data": {
      "text/html": [
       "<ol class=list-inline>\n",
       "\t<li>105</li>\n",
       "\t<li>6</li>\n",
       "</ol>\n"
      ],
      "text/latex": [
       "\\begin{enumerate*}\n",
       "\\item 105\n",
       "\\item 6\n",
       "\\end{enumerate*}\n"
      ],
      "text/markdown": [
       "1. 105\n",
       "2. 6\n",
       "\n",
       "\n"
      ],
      "text/plain": [
       "[1] 105   6"
      ]
     },
     "metadata": {},
     "output_type": "display_data"
    }
   ],
   "source": [
    "stomach@meta.data %>% filter(orig.ident=='8N-total') %>% \n",
    "filter(integrated_snn_res.0.8 =='3') %>%\n",
    "dim"
   ]
  },
  {
   "cell_type": "markdown",
   "metadata": {},
   "source": [
    "# cluster5 -> 759個"
   ]
  },
  {
   "cell_type": "code",
   "execution_count": 35,
   "metadata": {},
   "outputs": [
    {
     "data": {
      "text/html": [
       "<ol class=list-inline>\n",
       "\t<li>219</li>\n",
       "\t<li>6</li>\n",
       "</ol>\n"
      ],
      "text/latex": [
       "\\begin{enumerate*}\n",
       "\\item 219\n",
       "\\item 6\n",
       "\\end{enumerate*}\n"
      ],
      "text/markdown": [
       "1. 219\n",
       "2. 6\n",
       "\n",
       "\n"
      ],
      "text/plain": [
       "[1] 219   6"
      ]
     },
     "metadata": {},
     "output_type": "display_data"
    }
   ],
   "source": [
    "# 10N-total　かつ　cluster5\n",
    "stomach@meta.data %>% filter(orig.ident=='10N-total') %>% \n",
    "filter(integrated_snn_res.0.8 =='5') %>%\n",
    "dim"
   ]
  },
  {
   "cell_type": "code",
   "execution_count": 36,
   "metadata": {},
   "outputs": [
    {
     "data": {
      "text/html": [
       "<ol class=list-inline>\n",
       "\t<li>236</li>\n",
       "\t<li>6</li>\n",
       "</ol>\n"
      ],
      "text/latex": [
       "\\begin{enumerate*}\n",
       "\\item 236\n",
       "\\item 6\n",
       "\\end{enumerate*}\n"
      ],
      "text/markdown": [
       "1. 236\n",
       "2. 6\n",
       "\n",
       "\n"
      ],
      "text/plain": [
       "[1] 236   6"
      ]
     },
     "metadata": {},
     "output_type": "display_data"
    }
   ],
   "source": [
    "# 10N-total　かつ　cluster5\n",
    "stomach@meta.data %>% filter(orig.ident=='11N-total') %>% \n",
    "filter(integrated_snn_res.0.8 =='5') %>%\n",
    "dim"
   ]
  },
  {
   "cell_type": "code",
   "execution_count": 37,
   "metadata": {},
   "outputs": [
    {
     "data": {
      "text/html": [
       "<ol class=list-inline>\n",
       "\t<li>123</li>\n",
       "\t<li>6</li>\n",
       "</ol>\n"
      ],
      "text/latex": [
       "\\begin{enumerate*}\n",
       "\\item 123\n",
       "\\item 6\n",
       "\\end{enumerate*}\n"
      ],
      "text/markdown": [
       "1. 123\n",
       "2. 6\n",
       "\n",
       "\n"
      ],
      "text/plain": [
       "[1] 123   6"
      ]
     },
     "metadata": {},
     "output_type": "display_data"
    }
   ],
   "source": [
    "# 10N-total　かつ　cluster5\n",
    "stomach@meta.data %>% filter(orig.ident=='9N-total') %>% \n",
    "filter(integrated_snn_res.0.8 =='5') %>%\n",
    "dim"
   ]
  },
  {
   "cell_type": "code",
   "execution_count": 38,
   "metadata": {},
   "outputs": [
    {
     "data": {
      "text/html": [
       "<ol class=list-inline>\n",
       "\t<li>68</li>\n",
       "\t<li>6</li>\n",
       "</ol>\n"
      ],
      "text/latex": [
       "\\begin{enumerate*}\n",
       "\\item 68\n",
       "\\item 6\n",
       "\\end{enumerate*}\n"
      ],
      "text/markdown": [
       "1. 68\n",
       "2. 6\n",
       "\n",
       "\n"
      ],
      "text/plain": [
       "[1] 68  6"
      ]
     },
     "metadata": {},
     "output_type": "display_data"
    }
   ],
   "source": [
    "# 10N-total　かつ　cluster5\n",
    "stomach@meta.data %>% filter(orig.ident=='6N-total') %>% \n",
    "filter(integrated_snn_res.0.8 =='5') %>%\n",
    "dim"
   ]
  },
  {
   "cell_type": "code",
   "execution_count": 39,
   "metadata": {},
   "outputs": [
    {
     "data": {
      "text/html": [
       "<ol class=list-inline>\n",
       "\t<li>113</li>\n",
       "\t<li>6</li>\n",
       "</ol>\n"
      ],
      "text/latex": [
       "\\begin{enumerate*}\n",
       "\\item 113\n",
       "\\item 6\n",
       "\\end{enumerate*}\n"
      ],
      "text/markdown": [
       "1. 113\n",
       "2. 6\n",
       "\n",
       "\n"
      ],
      "text/plain": [
       "[1] 113   6"
      ]
     },
     "metadata": {},
     "output_type": "display_data"
    }
   ],
   "source": [
    "# 10N-total　かつ　cluster5\n",
    "stomach@meta.data %>% filter(orig.ident=='8N-total') %>% \n",
    "filter(integrated_snn_res.0.8 =='5') %>%\n",
    "dim"
   ]
  },
  {
   "cell_type": "markdown",
   "metadata": {},
   "source": [
    "# cluster 7 -> 641個"
   ]
  },
  {
   "cell_type": "code",
   "execution_count": 161,
   "metadata": {},
   "outputs": [
    {
     "data": {
      "text/html": [
       "<ol class=list-inline>\n",
       "\t<li>125</li>\n",
       "\t<li>6</li>\n",
       "</ol>\n"
      ],
      "text/latex": [
       "\\begin{enumerate*}\n",
       "\\item 125\n",
       "\\item 6\n",
       "\\end{enumerate*}\n"
      ],
      "text/markdown": [
       "1. 125\n",
       "2. 6\n",
       "\n",
       "\n"
      ],
      "text/plain": [
       "[1] 125   6"
      ]
     },
     "metadata": {},
     "output_type": "display_data"
    }
   ],
   "source": [
    "# 10N-total　かつ　cluster7\n",
    "stomach@meta.data %>% filter(orig.ident=='10N-total') %>% \n",
    "filter(integrated_snn_res.0.8 =='7') %>%\n",
    "dim"
   ]
  },
  {
   "cell_type": "code",
   "execution_count": 41,
   "metadata": {},
   "outputs": [
    {
     "data": {
      "text/html": [
       "<ol class=list-inline>\n",
       "\t<li>115</li>\n",
       "\t<li>6</li>\n",
       "</ol>\n"
      ],
      "text/latex": [
       "\\begin{enumerate*}\n",
       "\\item 115\n",
       "\\item 6\n",
       "\\end{enumerate*}\n"
      ],
      "text/markdown": [
       "1. 115\n",
       "2. 6\n",
       "\n",
       "\n"
      ],
      "text/plain": [
       "[1] 115   6"
      ]
     },
     "metadata": {},
     "output_type": "display_data"
    }
   ],
   "source": [
    "# 10N-total　かつ　cluster7\n",
    "stomach@meta.data %>% filter(orig.ident=='11N-total') %>% \n",
    "filter(integrated_snn_res.0.8 =='7') %>%\n",
    "dim"
   ]
  },
  {
   "cell_type": "code",
   "execution_count": 42,
   "metadata": {},
   "outputs": [
    {
     "data": {
      "text/html": [
       "<ol class=list-inline>\n",
       "\t<li>140</li>\n",
       "\t<li>6</li>\n",
       "</ol>\n"
      ],
      "text/latex": [
       "\\begin{enumerate*}\n",
       "\\item 140\n",
       "\\item 6\n",
       "\\end{enumerate*}\n"
      ],
      "text/markdown": [
       "1. 140\n",
       "2. 6\n",
       "\n",
       "\n"
      ],
      "text/plain": [
       "[1] 140   6"
      ]
     },
     "metadata": {},
     "output_type": "display_data"
    }
   ],
   "source": [
    "# 10N-total　かつ　cluster7\n",
    "stomach@meta.data %>% filter(orig.ident=='9N-total') %>% \n",
    "filter(integrated_snn_res.0.8 =='7') %>%\n",
    "dim"
   ]
  },
  {
   "cell_type": "code",
   "execution_count": 43,
   "metadata": {},
   "outputs": [
    {
     "data": {
      "text/html": [
       "<ol class=list-inline>\n",
       "\t<li>141</li>\n",
       "\t<li>6</li>\n",
       "</ol>\n"
      ],
      "text/latex": [
       "\\begin{enumerate*}\n",
       "\\item 141\n",
       "\\item 6\n",
       "\\end{enumerate*}\n"
      ],
      "text/markdown": [
       "1. 141\n",
       "2. 6\n",
       "\n",
       "\n"
      ],
      "text/plain": [
       "[1] 141   6"
      ]
     },
     "metadata": {},
     "output_type": "display_data"
    }
   ],
   "source": [
    "# 10N-total　かつ　cluster7\n",
    "stomach@meta.data %>% filter(orig.ident=='6N-total') %>% \n",
    "filter(integrated_snn_res.0.8 =='7') %>%\n",
    "dim"
   ]
  },
  {
   "cell_type": "code",
   "execution_count": 44,
   "metadata": {},
   "outputs": [
    {
     "data": {
      "text/html": [
       "<ol class=list-inline>\n",
       "\t<li>120</li>\n",
       "\t<li>6</li>\n",
       "</ol>\n"
      ],
      "text/latex": [
       "\\begin{enumerate*}\n",
       "\\item 120\n",
       "\\item 6\n",
       "\\end{enumerate*}\n"
      ],
      "text/markdown": [
       "1. 120\n",
       "2. 6\n",
       "\n",
       "\n"
      ],
      "text/plain": [
       "[1] 120   6"
      ]
     },
     "metadata": {},
     "output_type": "display_data"
    }
   ],
   "source": [
    "# 10N-total　かつ　cluster7\n",
    "stomach@meta.data %>% filter(orig.ident=='8N-total') %>% \n",
    "filter(integrated_snn_res.0.8 =='7') %>%\n",
    "dim"
   ]
  },
  {
   "cell_type": "markdown",
   "metadata": {},
   "source": [
    "# cluster 13 ->218個"
   ]
  },
  {
   "cell_type": "code",
   "execution_count": 50,
   "metadata": {},
   "outputs": [
    {
     "data": {
      "text/html": [
       "<ol class=list-inline>\n",
       "\t<li>34</li>\n",
       "\t<li>6</li>\n",
       "</ol>\n"
      ],
      "text/latex": [
       "\\begin{enumerate*}\n",
       "\\item 34\n",
       "\\item 6\n",
       "\\end{enumerate*}\n"
      ],
      "text/markdown": [
       "1. 34\n",
       "2. 6\n",
       "\n",
       "\n"
      ],
      "text/plain": [
       "[1] 34  6"
      ]
     },
     "metadata": {},
     "output_type": "display_data"
    }
   ],
   "source": [
    "# 10N-total　かつ　cluster7\n",
    "stomach@meta.data %>% filter(orig.ident=='10N-total') %>% \n",
    "filter(integrated_snn_res.0.8 =='13') %>%\n",
    "dim"
   ]
  },
  {
   "cell_type": "code",
   "execution_count": 46,
   "metadata": {},
   "outputs": [
    {
     "data": {
      "text/html": [
       "<ol class=list-inline>\n",
       "\t<li>20</li>\n",
       "\t<li>6</li>\n",
       "</ol>\n"
      ],
      "text/latex": [
       "\\begin{enumerate*}\n",
       "\\item 20\n",
       "\\item 6\n",
       "\\end{enumerate*}\n"
      ],
      "text/markdown": [
       "1. 20\n",
       "2. 6\n",
       "\n",
       "\n"
      ],
      "text/plain": [
       "[1] 20  6"
      ]
     },
     "metadata": {},
     "output_type": "display_data"
    }
   ],
   "source": [
    "# 10N-total　かつ　cluster7\n",
    "stomach@meta.data %>% filter(orig.ident=='11N-total') %>% \n",
    "filter(integrated_snn_res.0.8 =='13') %>%\n",
    "dim"
   ]
  },
  {
   "cell_type": "code",
   "execution_count": 47,
   "metadata": {},
   "outputs": [
    {
     "data": {
      "text/html": [
       "<ol class=list-inline>\n",
       "\t<li>9</li>\n",
       "\t<li>6</li>\n",
       "</ol>\n"
      ],
      "text/latex": [
       "\\begin{enumerate*}\n",
       "\\item 9\n",
       "\\item 6\n",
       "\\end{enumerate*}\n"
      ],
      "text/markdown": [
       "1. 9\n",
       "2. 6\n",
       "\n",
       "\n"
      ],
      "text/plain": [
       "[1] 9 6"
      ]
     },
     "metadata": {},
     "output_type": "display_data"
    }
   ],
   "source": [
    "# 10N-total　かつ　cluster7\n",
    "stomach@meta.data %>% filter(orig.ident=='9N-total') %>% \n",
    "filter(integrated_snn_res.0.8 =='13') %>%\n",
    "dim"
   ]
  },
  {
   "cell_type": "code",
   "execution_count": 48,
   "metadata": {},
   "outputs": [
    {
     "data": {
      "text/html": [
       "<ol class=list-inline>\n",
       "\t<li>51</li>\n",
       "\t<li>6</li>\n",
       "</ol>\n"
      ],
      "text/latex": [
       "\\begin{enumerate*}\n",
       "\\item 51\n",
       "\\item 6\n",
       "\\end{enumerate*}\n"
      ],
      "text/markdown": [
       "1. 51\n",
       "2. 6\n",
       "\n",
       "\n"
      ],
      "text/plain": [
       "[1] 51  6"
      ]
     },
     "metadata": {},
     "output_type": "display_data"
    }
   ],
   "source": [
    "# 10N-total　かつ　cluster7\n",
    "stomach@meta.data %>% filter(orig.ident=='6N-total') %>% \n",
    "filter(integrated_snn_res.0.8 =='13') %>%\n",
    "dim"
   ]
  },
  {
   "cell_type": "code",
   "execution_count": 49,
   "metadata": {},
   "outputs": [
    {
     "data": {
      "text/html": [
       "<ol class=list-inline>\n",
       "\t<li>104</li>\n",
       "\t<li>6</li>\n",
       "</ol>\n"
      ],
      "text/latex": [
       "\\begin{enumerate*}\n",
       "\\item 104\n",
       "\\item 6\n",
       "\\end{enumerate*}\n"
      ],
      "text/markdown": [
       "1. 104\n",
       "2. 6\n",
       "\n",
       "\n"
      ],
      "text/plain": [
       "[1] 104   6"
      ]
     },
     "metadata": {},
     "output_type": "display_data"
    }
   ],
   "source": [
    "# 10N-total　かつ　cluster7\n",
    "stomach@meta.data %>% filter(orig.ident=='8N-total') %>% \n",
    "filter(integrated_snn_res.0.8 =='13') %>%\n",
    "dim"
   ]
  },
  {
   "cell_type": "code",
   "execution_count": 13,
   "metadata": {},
   "outputs": [
    {
     "data": {
      "text/html": [
       "'/data/share/scRNAseq/results/human_STAD/10N-total/a'"
      ],
      "text/latex": [
       "'/data/share/scRNAseq/results/human\\_STAD/10N-total/a'"
      ],
      "text/markdown": [
       "'/data/share/scRNAseq/results/human_STAD/10N-total/a'"
      ],
      "text/plain": [
       "[1] \"/data/share/scRNAseq/results/human_STAD/10N-total/a\""
      ]
     },
     "metadata": {},
     "output_type": "display_data"
    }
   ],
   "source": [
    "matrix_dir = \"/data/share/scRNAseq/results/human_STAD/\""
   ]
  },
  {
   "cell_type": "markdown",
   "metadata": {},
   "source": [
    "10N->1, 11N->2, 6N->3, 8N->4, 9N->5"
   ]
  },
  {
   "cell_type": "code",
   "execution_count": 233,
   "metadata": {},
   "outputs": [],
   "source": [
    "# 細胞の名前を指定\n",
    "cells = c('10N-total','11N-total','6N-total','8N-total','9N-total') "
   ]
  },
  {
   "cell_type": "code",
   "execution_count": 234,
   "metadata": {},
   "outputs": [],
   "source": [
    "# dir\n",
    "matrix_dir2 = '/outs/filtered_feature_bc_matrix/'\n",
    "for(i in 1:length(cells)){\n",
    "barcode.path <- paste0(matrix_dir, cells[i], matrix_dir2, \"barcodes.tsv.gz\")\n",
    "features.path <- paste0(matrix_dir, cells[i], matrix_dir2, \"features.tsv.gz\")\n",
    "matrix.path <- paste0(matrix_dir, cells[i], matrix_dir2, \"matrix.mtx.gz\")\n",
    "mat <- readMM(file = matrix.path)\n",
    "feature.names = read.delim(features.path, \n",
    "                           header = FALSE,\n",
    "                           stringsAsFactors = FALSE)\n",
    "barcode.names = read.delim(barcode.path, \n",
    "                           header = FALSE,\n",
    "                           stringsAsFactors = FALSE)\n",
    "colnames(mat) = paste0(sub('-1','_',barcode.names$V1),i) # SeuratだとUMI末尾が_., rawだと-1のため、変換\n",
    "rownames(mat) = feature.names$V1\n",
    "\n",
    "# cluster3\n",
    "a <- stomach@meta.data[stomach@meta.data[,1]==cells[i],]\n",
    "b <- a[a$integrated_snn_res.0.8==3,]\n",
    "cluster3_UMI = rownames(b) \n",
    "    if(i==1){mat_cluster3=mat[,cluster3_UMI]}\n",
    "    else {mat_cluster3=cbind(mat_cluster3,mat[,cluster3_UMI])}\n",
    "\n",
    "# cluster5\n",
    "a <- stomach@meta.data[stomach@meta.data[,1]==cells[i],]\n",
    "b <- a[a$integrated_snn_res.0.8==5,]\n",
    "cluster5_UMI = rownames(b)\n",
    "    if(i==1){mat_cluster5=mat[,cluster5_UMI]}\n",
    "    else {mat_cluster5=cbind(mat_cluster5,mat[,cluster5_UMI])}\n",
    "\n",
    "# cluster7\n",
    "a <- stomach@meta.data[stomach@meta.data[,1]==cells[i],]\n",
    "b <- a[a$integrated_snn_res.0.8==7,]\n",
    "cluster7_UMI = rownames(b)\n",
    "    if(i==1){mat_cluster7=mat[,cluster7_UMI]}\n",
    "    else {mat_cluster7=cbind(mat_cluster7,mat[,cluster7_UMI])}\n",
    "\n",
    "# cluster13\n",
    "a <- stomach@meta.data[stomach@meta.data[,1]==cells[i],]\n",
    "b <- a[a$integrated_snn_res.0.8==13,]\n",
    "cluster13_UMI = rownames(b)\n",
    "    if(i==1){mat_cluster13=mat[,cluster13_UMI]}\n",
    "    else {mat_cluster13=cbind(mat_cluster13,mat[,cluster13_UMI])}\n",
    "}"
   ]
  },
  {
   "cell_type": "code",
   "execution_count": 235,
   "metadata": {},
   "outputs": [
    {
     "data": {
      "text/html": [
       "<ol class=list-inline>\n",
       "\t<li>33538</li>\n",
       "\t<li>1237</li>\n",
       "</ol>\n"
      ],
      "text/latex": [
       "\\begin{enumerate*}\n",
       "\\item 33538\n",
       "\\item 1237\n",
       "\\end{enumerate*}\n"
      ],
      "text/markdown": [
       "1. 33538\n",
       "2. 1237\n",
       "\n",
       "\n"
      ],
      "text/plain": [
       "[1] 33538  1237"
      ]
     },
     "metadata": {},
     "output_type": "display_data"
    }
   ],
   "source": [
    "dim(mat_cluster3)"
   ]
  },
  {
   "cell_type": "code",
   "execution_count": 97,
   "metadata": {},
   "outputs": [
    {
     "data": {
      "text/html": [
       "<ol class=list-inline>\n",
       "\t<li>33538</li>\n",
       "\t<li>759</li>\n",
       "</ol>\n"
      ],
      "text/latex": [
       "\\begin{enumerate*}\n",
       "\\item 33538\n",
       "\\item 759\n",
       "\\end{enumerate*}\n"
      ],
      "text/markdown": [
       "1. 33538\n",
       "2. 759\n",
       "\n",
       "\n"
      ],
      "text/plain": [
       "[1] 33538   759"
      ]
     },
     "metadata": {},
     "output_type": "display_data"
    }
   ],
   "source": [
    "dim(mat_cluster5)"
   ]
  },
  {
   "cell_type": "code",
   "execution_count": 237,
   "metadata": {},
   "outputs": [
    {
     "data": {
      "text/html": [
       "<ol class=list-inline>\n",
       "\t<li>33538</li>\n",
       "\t<li>641</li>\n",
       "</ol>\n"
      ],
      "text/latex": [
       "\\begin{enumerate*}\n",
       "\\item 33538\n",
       "\\item 641\n",
       "\\end{enumerate*}\n"
      ],
      "text/markdown": [
       "1. 33538\n",
       "2. 641\n",
       "\n",
       "\n"
      ],
      "text/plain": [
       "[1] 33538   641"
      ]
     },
     "metadata": {},
     "output_type": "display_data"
    }
   ],
   "source": [
    "dim(mat_cluster7)"
   ]
  },
  {
   "cell_type": "code",
   "execution_count": 238,
   "metadata": {},
   "outputs": [
    {
     "data": {
      "text/html": [
       "<ol class=list-inline>\n",
       "\t<li>33538</li>\n",
       "\t<li>218</li>\n",
       "</ol>\n"
      ],
      "text/latex": [
       "\\begin{enumerate*}\n",
       "\\item 33538\n",
       "\\item 218\n",
       "\\end{enumerate*}\n"
      ],
      "text/markdown": [
       "1. 33538\n",
       "2. 218\n",
       "\n",
       "\n"
      ],
      "text/plain": [
       "[1] 33538   218"
      ]
     },
     "metadata": {},
     "output_type": "display_data"
    }
   ],
   "source": [
    "dim(mat_cluster13)"
   ]
  },
  {
   "cell_type": "code",
   "execution_count": 105,
   "metadata": {},
   "outputs": [],
   "source": [
    "# UMIとクラスターの対応表\n",
    "UMI_and_cluster = stomach@active.ident"
   ]
  },
  {
   "cell_type": "code",
   "execution_count": 243,
   "metadata": {},
   "outputs": [],
   "source": [
    "save(mat_cluster3,file=\"/home/tsubosaka/stomach_normal_marker/RData/mat_cluster3.Rdata\")\n",
    "save(mat_cluster5,file=\"/home/tsubosaka/stomach_normal_marker/RData/mat_cluster5.Rdata\")\n",
    "save(mat_cluster7,file=\"/home/tsubosaka/stomach_normal_marker/RData/mat_cluster7.Rdata\")\n",
    "save(mat_cluster13,file=\"/home/tsubosaka/stomach_normal_marker/RData/mat_cluster13.Rdata\")"
   ]
  },
  {
   "cell_type": "markdown",
   "metadata": {},
   "source": [
    "# Ensemble ID -> gene symbol"
   ]
  },
  {
   "cell_type": "code",
   "execution_count": 175,
   "metadata": {},
   "outputs": [],
   "source": [
    "library(biomaRt)"
   ]
  },
  {
   "cell_type": "code",
   "execution_count": 176,
   "metadata": {},
   "outputs": [],
   "source": [
    "mart <- useDataset(\"hsapiens_gene_ensembl\", useMart(\"ensembl\"))"
   ]
  },
  {
   "cell_type": "code",
   "execution_count": 180,
   "metadata": {},
   "outputs": [
    {
     "name": "stderr",
     "output_type": "stream",
     "text": []
    },
    {
     "name": "stderr",
     "output_type": "stream",
     "text": []
    }
   ],
   "source": [
    "listA <- getBM(filters= \"ensembl_gene_id\", attributes=c(\"ensembl_gene_id\",'hgnc_symbol'),\n",
    "              values=rownames(mat_cluster13),mart=mart)"
   ]
  },
  {
   "cell_type": "code",
   "execution_count": 190,
   "metadata": {},
   "outputs": [
    {
     "name": "stderr",
     "output_type": "stream",
     "text": [
      "Warning message in listA$ensembl_gene_id == (rownames(mat_cluster13)):\n",
      "“longer object length is not a multiple of shorter object length”"
     ]
    },
    {
     "data": {
      "text/html": [
       "<ol class=list-inline>\n",
       "\t<li>60</li>\n",
       "\t<li>2</li>\n",
       "</ol>\n"
      ],
      "text/latex": [
       "\\begin{enumerate*}\n",
       "\\item 60\n",
       "\\item 2\n",
       "\\end{enumerate*}\n"
      ],
      "text/markdown": [
       "1. 60\n",
       "2. 2\n",
       "\n",
       "\n"
      ],
      "text/plain": [
       "[1] 60  2"
      ]
     },
     "metadata": {},
     "output_type": "display_data"
    }
   ],
   "source": [
    "(listA[listA$ensembl_gene_id==(rownames(mat_cluster13)),]"
   ]
  },
  {
   "cell_type": "markdown",
   "metadata": {},
   "source": [
    "## Ensemble ID -> gene symbol 終了"
   ]
  },
  {
   "cell_type": "markdown",
   "metadata": {},
   "source": [
    "# zinbwave-deseq2 pipeline　解析開始"
   ]
  },
  {
   "cell_type": "code",
   "execution_count": 3,
   "metadata": {},
   "outputs": [
    {
     "name": "stderr",
     "output_type": "stream",
     "text": [
      "Loading required package: SingleCellExperiment\n"
     ]
    }
   ],
   "source": [
    "library(zinbwave)\n",
    "library(scRNAseq)\n",
    "library(matrixStats)\n",
    "library(magrittr)\n",
    "library(ggplot2)\n",
    "library(biomaRt)"
   ]
  },
  {
   "cell_type": "code",
   "execution_count": 4,
   "metadata": {},
   "outputs": [],
   "source": [
    "load('/home/tsubosaka/stomach_normal_marker/RData/mat_cluster3.Rdata')\n",
    "load('/home/tsubosaka/stomach_normal_marker/RData/mat_cluster5.Rdata')\n",
    "load('/home/tsubosaka/stomach_normal_marker/RData/mat_cluster7.Rdata')\n",
    "load('/home/tsubosaka/stomach_normal_marker/RData/mat_cluster13.Rdata')"
   ]
  },
  {
   "cell_type": "code",
   "execution_count": 5,
   "metadata": {},
   "outputs": [
    {
     "data": {
      "text/html": [
       "'matrix'"
      ],
      "text/latex": [
       "'matrix'"
      ],
      "text/markdown": [
       "'matrix'"
      ],
      "text/plain": [
       "[1] \"matrix\""
      ]
     },
     "metadata": {},
     "output_type": "display_data"
    }
   ],
   "source": [
    "class(as.matrix(mat_cluster3))"
   ]
  },
  {
   "cell_type": "code",
   "execution_count": 23,
   "metadata": {},
   "outputs": [
    {
     "data": {
      "text/html": [
       "<ol class=list-inline>\n",
       "\t<li>'AAACGGGCAACGATCT_1'</li>\n",
       "\t<li>'AAAGATGGTAATCACC_1'</li>\n",
       "\t<li>'AACCATGGTCCGACGT_1'</li>\n",
       "\t<li>'AACCGCGTCAAGGCTT_1'</li>\n",
       "\t<li>'AACTCCCCAAGAGTCG_1'</li>\n",
       "\t<li>'AACTTTCTCTCATTCA_1'</li>\n",
       "</ol>\n"
      ],
      "text/latex": [
       "\\begin{enumerate*}\n",
       "\\item 'AAACGGGCAACGATCT\\_1'\n",
       "\\item 'AAAGATGGTAATCACC\\_1'\n",
       "\\item 'AACCATGGTCCGACGT\\_1'\n",
       "\\item 'AACCGCGTCAAGGCTT\\_1'\n",
       "\\item 'AACTCCCCAAGAGTCG\\_1'\n",
       "\\item 'AACTTTCTCTCATTCA\\_1'\n",
       "\\end{enumerate*}\n"
      ],
      "text/markdown": [
       "1. 'AAACGGGCAACGATCT_1'\n",
       "2. 'AAAGATGGTAATCACC_1'\n",
       "3. 'AACCATGGTCCGACGT_1'\n",
       "4. 'AACCGCGTCAAGGCTT_1'\n",
       "5. 'AACTCCCCAAGAGTCG_1'\n",
       "6. 'AACTTTCTCTCATTCA_1'\n",
       "\n",
       "\n"
      ],
      "text/plain": [
       "[1] \"AAACGGGCAACGATCT_1\" \"AAAGATGGTAATCACC_1\" \"AACCATGGTCCGACGT_1\"\n",
       "[4] \"AACCGCGTCAAGGCTT_1\" \"AACTCCCCAAGAGTCG_1\" \"AACTTTCTCTCATTCA_1\""
      ]
     },
     "metadata": {},
     "output_type": "display_data"
    }
   ],
   "source": [
    "colnames(mat_cluster3) %>% head"
   ]
  },
  {
   "cell_type": "code",
   "execution_count": 24,
   "metadata": {},
   "outputs": [
    {
     "data": {
      "text/html": [
       "<ol class=list-inline>\n",
       "\t<li>'ENSG00000243485'</li>\n",
       "\t<li>'ENSG00000237613'</li>\n",
       "\t<li>'ENSG00000186092'</li>\n",
       "\t<li>'ENSG00000238009'</li>\n",
       "\t<li>'ENSG00000239945'</li>\n",
       "\t<li>'ENSG00000239906'</li>\n",
       "</ol>\n"
      ],
      "text/latex": [
       "\\begin{enumerate*}\n",
       "\\item 'ENSG00000243485'\n",
       "\\item 'ENSG00000237613'\n",
       "\\item 'ENSG00000186092'\n",
       "\\item 'ENSG00000238009'\n",
       "\\item 'ENSG00000239945'\n",
       "\\item 'ENSG00000239906'\n",
       "\\end{enumerate*}\n"
      ],
      "text/markdown": [
       "1. 'ENSG00000243485'\n",
       "2. 'ENSG00000237613'\n",
       "3. 'ENSG00000186092'\n",
       "4. 'ENSG00000238009'\n",
       "5. 'ENSG00000239945'\n",
       "6. 'ENSG00000239906'\n",
       "\n",
       "\n"
      ],
      "text/plain": [
       "[1] \"ENSG00000243485\" \"ENSG00000237613\" \"ENSG00000186092\" \"ENSG00000238009\"\n",
       "[5] \"ENSG00000239945\" \"ENSG00000239906\""
      ]
     },
     "metadata": {},
     "output_type": "display_data"
    }
   ],
   "source": [
    "rownames(mat_cluster3) %>% head"
   ]
  },
  {
   "cell_type": "code",
   "execution_count": 34,
   "metadata": {},
   "outputs": [
    {
     "data": {
      "text/html": [
       "'dgCMatrix'"
      ],
      "text/latex": [
       "'dgCMatrix'"
      ],
      "text/markdown": [
       "'dgCMatrix'"
      ],
      "text/plain": [
       "[1] \"dgCMatrix\"\n",
       "attr(,\"package\")\n",
       "[1] \"Matrix\""
      ]
     },
     "metadata": {},
     "output_type": "display_data"
    }
   ],
   "source": [
    "class(mat_cluster3)"
   ]
  },
  {
   "cell_type": "code",
   "execution_count": 22,
   "metadata": {},
   "outputs": [],
   "source": [
    "a <- as.data.frame(as.matrix(mat_cluster3))"
   ]
  },
  {
   "cell_type": "code",
   "execution_count": 32,
   "metadata": {},
   "outputs": [
    {
     "data": {
      "text/html": [
       "<ol class=list-inline>\n",
       "\t<li>'AAACGGGCAACGATCT_1'</li>\n",
       "\t<li>'AAAGATGGTAATCACC_1'</li>\n",
       "\t<li>'AACCATGGTCCGACGT_1'</li>\n",
       "\t<li>'AACCGCGTCAAGGCTT_1'</li>\n",
       "\t<li>'AACTCCCCAAGAGTCG_1'</li>\n",
       "\t<li>'AACTTTCTCTCATTCA_1'</li>\n",
       "</ol>\n"
      ],
      "text/latex": [
       "\\begin{enumerate*}\n",
       "\\item 'AAACGGGCAACGATCT\\_1'\n",
       "\\item 'AAAGATGGTAATCACC\\_1'\n",
       "\\item 'AACCATGGTCCGACGT\\_1'\n",
       "\\item 'AACCGCGTCAAGGCTT\\_1'\n",
       "\\item 'AACTCCCCAAGAGTCG\\_1'\n",
       "\\item 'AACTTTCTCTCATTCA\\_1'\n",
       "\\end{enumerate*}\n"
      ],
      "text/markdown": [
       "1. 'AAACGGGCAACGATCT_1'\n",
       "2. 'AAAGATGGTAATCACC_1'\n",
       "3. 'AACCATGGTCCGACGT_1'\n",
       "4. 'AACCGCGTCAAGGCTT_1'\n",
       "5. 'AACTCCCCAAGAGTCG_1'\n",
       "6. 'AACTTTCTCTCATTCA_1'\n",
       "\n",
       "\n"
      ],
      "text/plain": [
       "[1] \"AAACGGGCAACGATCT_1\" \"AAAGATGGTAATCACC_1\" \"AACCATGGTCCGACGT_1\"\n",
       "[4] \"AACCGCGTCAAGGCTT_1\" \"AACTCCCCAAGAGTCG_1\" \"AACTTTCTCTCATTCA_1\""
      ]
     },
     "metadata": {},
     "output_type": "display_data"
    }
   ],
   "source": [
    "a %>% colnames %>% head"
   ]
  },
  {
   "cell_type": "code",
   "execution_count": 33,
   "metadata": {},
   "outputs": [
    {
     "data": {
      "text/html": [
       "<ol class=list-inline>\n",
       "\t<li>'ENSG00000243485'</li>\n",
       "\t<li>'ENSG00000237613'</li>\n",
       "\t<li>'ENSG00000186092'</li>\n",
       "\t<li>'ENSG00000238009'</li>\n",
       "\t<li>'ENSG00000239945'</li>\n",
       "\t<li>'ENSG00000239906'</li>\n",
       "</ol>\n"
      ],
      "text/latex": [
       "\\begin{enumerate*}\n",
       "\\item 'ENSG00000243485'\n",
       "\\item 'ENSG00000237613'\n",
       "\\item 'ENSG00000186092'\n",
       "\\item 'ENSG00000238009'\n",
       "\\item 'ENSG00000239945'\n",
       "\\item 'ENSG00000239906'\n",
       "\\end{enumerate*}\n"
      ],
      "text/markdown": [
       "1. 'ENSG00000243485'\n",
       "2. 'ENSG00000237613'\n",
       "3. 'ENSG00000186092'\n",
       "4. 'ENSG00000238009'\n",
       "5. 'ENSG00000239945'\n",
       "6. 'ENSG00000239906'\n",
       "\n",
       "\n"
      ],
      "text/plain": [
       "[1] \"ENSG00000243485\" \"ENSG00000237613\" \"ENSG00000186092\" \"ENSG00000238009\"\n",
       "[5] \"ENSG00000239945\" \"ENSG00000239906\""
      ]
     },
     "metadata": {},
     "output_type": "display_data"
    }
   ],
   "source": [
    "a %>% rownames %>% head"
   ]
  },
  {
   "cell_type": "code",
   "execution_count": 83,
   "metadata": {},
   "outputs": [
    {
     "data": {
      "text/html": [
       "<ol class=list-inline>\n",
       "\t<li>33538</li>\n",
       "\t<li>1237</li>\n",
       "</ol>\n"
      ],
      "text/latex": [
       "\\begin{enumerate*}\n",
       "\\item 33538\n",
       "\\item 1237\n",
       "\\end{enumerate*}\n"
      ],
      "text/markdown": [
       "1. 33538\n",
       "2. 1237\n",
       "\n",
       "\n"
      ],
      "text/plain": [
       "[1] 33538  1237"
      ]
     },
     "metadata": {},
     "output_type": "display_data"
    }
   ],
   "source": [
    "dim(mat_cluster3)"
   ]
  },
  {
   "cell_type": "code",
   "execution_count": 84,
   "metadata": {},
   "outputs": [
    {
     "data": {
      "text/html": [
       "<ol class=list-inline>\n",
       "\t<li>33538</li>\n",
       "\t<li>641</li>\n",
       "</ol>\n"
      ],
      "text/latex": [
       "\\begin{enumerate*}\n",
       "\\item 33538\n",
       "\\item 641\n",
       "\\end{enumerate*}\n"
      ],
      "text/markdown": [
       "1. 33538\n",
       "2. 641\n",
       "\n",
       "\n"
      ],
      "text/plain": [
       "[1] 33538   641"
      ]
     },
     "metadata": {},
     "output_type": "display_data"
    }
   ],
   "source": [
    "dim(mat_cluster7)"
   ]
  },
  {
   "cell_type": "code",
   "execution_count": 85,
   "metadata": {},
   "outputs": [
    {
     "data": {
      "text/html": [
       "<ol class=list-inline>\n",
       "\t<li>33538</li>\n",
       "\t<li>1878</li>\n",
       "</ol>\n"
      ],
      "text/latex": [
       "\\begin{enumerate*}\n",
       "\\item 33538\n",
       "\\item 1878\n",
       "\\end{enumerate*}\n"
      ],
      "text/markdown": [
       "1. 33538\n",
       "2. 1878\n",
       "\n",
       "\n"
      ],
      "text/plain": [
       "[1] 33538  1878"
      ]
     },
     "metadata": {},
     "output_type": "display_data"
    }
   ],
   "source": [
    "dim(cbind(mat_cluster3,mat_cluster7))"
   ]
  },
  {
   "cell_type": "code",
   "execution_count": 96,
   "metadata": {},
   "outputs": [
    {
     "data": {
      "text/html": [
       "'AAACCTGGTCCAAGTT_1'"
      ],
      "text/latex": [
       "'AAACCTGGTCCAAGTT\\_1'"
      ],
      "text/markdown": [
       "'AAACCTGGTCCAAGTT_1'"
      ],
      "text/plain": [
       "[1] \"AAACCTGGTCCAAGTT_1\""
      ]
     },
     "metadata": {},
     "output_type": "display_data"
    }
   ],
   "source": [
    "colnames(mat_cluster5)[1]"
   ]
  },
  {
   "cell_type": "code",
   "execution_count": 5,
   "metadata": {},
   "outputs": [],
   "source": [
    "# count matrixを統合\n",
    "countA = as.matrix(cbind(mat_cluster3, mat_cluster5, mat_cluster7, mat_cluster13))"
   ]
  },
  {
   "cell_type": "code",
   "execution_count": 6,
   "metadata": {},
   "outputs": [
    {
     "data": {
      "text/html": [
       "<ol class=list-inline>\n",
       "\t<li>33538</li>\n",
       "\t<li>2855</li>\n",
       "</ol>\n"
      ],
      "text/latex": [
       "\\begin{enumerate*}\n",
       "\\item 33538\n",
       "\\item 2855\n",
       "\\end{enumerate*}\n"
      ],
      "text/markdown": [
       "1. 33538\n",
       "2. 2855\n",
       "\n",
       "\n"
      ],
      "text/plain": [
       "[1] 33538  2855"
      ]
     },
     "metadata": {},
     "output_type": "display_data"
    }
   ],
   "source": [
    "dim(countA)"
   ]
  },
  {
   "cell_type": "code",
   "execution_count": 22,
   "metadata": {},
   "outputs": [],
   "source": [
    "# SummarizedExperimentに変換\n",
    "se <- SummarizedExperiment(assays=list(counts=countA, logcounts=log2(countA+1)))"
   ]
  },
  {
   "cell_type": "code",
   "execution_count": 23,
   "metadata": {},
   "outputs": [],
   "source": [
    "# clusterの情報を付与\n",
    "colData <- DataFrame(Cluster=c(rep(\"3\", 1237),rep(\"5\",759),rep(\"7\",641),rep(\"13\",218)),\n",
    "                    row.names=colnames(se))\n",
    "# colData <- DataFrame(Cluster=c(rep(\"3\", 1237),rep(\"5\",759),rep(\"7\",641),rep(\"13\",218)),\n",
    "#                   Cluster3=c(rep(\"3\",1237),rep('others',2855-1237)),\n",
    "#                   Cluster5=c(rep(\"others\",1237),rep('5',759),rep('others',641+218)),\n",
    "#                   Cluster7=c(rep(\"others\",1237+759),rep('7',641),rep('others',218)),\n",
    "#                   Cluster13=c(rep(\"others\",2855-218),rep('13',218)),\n",
    "#                   row.names=colnames(se))\n",
    "colData(se) <- colData"
   ]
  },
  {
   "cell_type": "code",
   "execution_count": 24,
   "metadata": {},
   "outputs": [
    {
     "data": {
      "text/plain": [
       "DataFrame with 2855 rows and 1 column\n",
       "                       Cluster\n",
       "                   <character>\n",
       "AAACGGGCAACGATCT_1           3\n",
       "AAAGATGGTAATCACC_1           3\n",
       "AACCATGGTCCGACGT_1           3\n",
       "AACCGCGTCAAGGCTT_1           3\n",
       "AACTCCCCAAGAGTCG_1           3\n",
       "...                        ...\n",
       "CTACCCATCAAGCCTA_5          13\n",
       "GACAGAGTCACAAACC_5          13\n",
       "TCATTACAGCATGGCA_5          13\n",
       "TGGCGCAAGAAAGTGG_5          13\n",
       "TGGCTGGTCGAATGCT_5          13"
      ]
     },
     "metadata": {},
     "output_type": "display_data"
    }
   ],
   "source": [
    "colData(se)"
   ]
  },
  {
   "cell_type": "code",
   "execution_count": 25,
   "metadata": {},
   "outputs": [
    {
     "data": {
      "text/plain": [
       "filter\n",
       "FALSE  TRUE \n",
       "23404 10134 "
      ]
     },
     "metadata": {},
     "output_type": "display_data"
    }
   ],
   "source": [
    "# 一つも発現していない遺伝子・細胞は除く\n",
    "filter <- rowSums(assay(se)>1)>1\n",
    "table(filter)"
   ]
  },
  {
   "cell_type": "code",
   "execution_count": 26,
   "metadata": {},
   "outputs": [],
   "source": [
    "se <- se[filter,]"
   ]
  },
  {
   "cell_type": "code",
   "execution_count": 27,
   "metadata": {},
   "outputs": [
    {
     "data": {
      "text/plain": [
       "class: SummarizedExperiment \n",
       "dim: 10134 2855 \n",
       "metadata(0):\n",
       "assays(2): counts logcounts\n",
       "rownames(10134): ENSG00000237491 ENSG00000188976 ... ENSG00000273748\n",
       "  ENSG00000276345\n",
       "rowData names(0):\n",
       "colnames(2855): AAACGGGCAACGATCT_1 AAAGATGGTAATCACC_1 ...\n",
       "  TGGCGCAAGAAAGTGG_5 TGGCTGGTCGAATGCT_5\n",
       "colData names(1): Cluster"
      ]
     },
     "metadata": {},
     "output_type": "display_data"
    }
   ],
   "source": [
    "se"
   ]
  },
  {
   "cell_type": "code",
   "execution_count": 28,
   "metadata": {},
   "outputs": [
    {
     "data": {
      "text/html": [
       "<dl class=dl-horizontal>\n",
       "\t<dt>ENSG00000251562</dt>\n",
       "\t\t<dd>3.05693220431725</dd>\n",
       "\t<dt>ENSG00000169605</dt>\n",
       "\t\t<dd>2.72293997083701</dd>\n",
       "\t<dt>ENSG00000160182</dt>\n",
       "\t\t<dd>2.35057956552801</dd>\n",
       "\t<dt>ENSG00000198938</dt>\n",
       "\t\t<dd>2.18342471883544</dd>\n",
       "\t<dt>ENSG00000198804</dt>\n",
       "\t\t<dd>1.95565405234574</dd>\n",
       "\t<dt>ENSG00000198712</dt>\n",
       "\t\t<dd>1.89559466642454</dd>\n",
       "</dl>\n"
      ],
      "text/latex": [
       "\\begin{description*}\n",
       "\\item[ENSG00000251562] 3.05693220431725\n",
       "\\item[ENSG00000169605] 2.72293997083701\n",
       "\\item[ENSG00000160182] 2.35057956552801\n",
       "\\item[ENSG00000198938] 2.18342471883544\n",
       "\\item[ENSG00000198804] 1.95565405234574\n",
       "\\item[ENSG00000198712] 1.89559466642454\n",
       "\\end{description*}\n"
      ],
      "text/markdown": [
       "ENSG00000251562\n",
       ":   3.05693220431725ENSG00000169605\n",
       ":   2.72293997083701ENSG00000160182\n",
       ":   2.35057956552801ENSG00000198938\n",
       ":   2.18342471883544ENSG00000198804\n",
       ":   1.95565405234574ENSG00000198712\n",
       ":   1.89559466642454\n",
       "\n"
      ],
      "text/plain": [
       "ENSG00000251562 ENSG00000169605 ENSG00000160182 ENSG00000198938 ENSG00000198804 \n",
       "       3.056932        2.722940        2.350580        2.183425        1.955654 \n",
       "ENSG00000198712 \n",
       "       1.895595 "
      ]
     },
     "metadata": {},
     "output_type": "display_data"
    }
   ],
   "source": [
    "assay(se) %>% log1p %>% rowVars -> vars\n",
    "names(vars) <- rownames(se)\n",
    "vars <- sort(vars, decreasing = TRUE)\n",
    "head(vars)"
   ]
  },
  {
   "cell_type": "code",
   "execution_count": 29,
   "metadata": {},
   "outputs": [],
   "source": [
    "se <- se[names(vars)[1:10000],]"
   ]
  },
  {
   "cell_type": "code",
   "execution_count": 30,
   "metadata": {},
   "outputs": [],
   "source": [
    "assayNames(se)[1] <- \"counts\""
   ]
  },
  {
   "cell_type": "markdown",
   "metadata": {},
   "source": [
    "# 終わらない計算"
   ]
  },
  {
   "cell_type": "code",
   "execution_count": 31,
   "metadata": {},
   "outputs": [
    {
     "data": {
      "text/plain": [
       "class: SummarizedExperiment \n",
       "dim: 10000 2855 \n",
       "metadata(0):\n",
       "assays(2): counts logcounts\n",
       "rownames(10000): ENSG00000251562 ENSG00000169605 ... ENSG00000151014\n",
       "  ENSG00000265254\n",
       "rowData names(0):\n",
       "colnames(2855): AAACGGGCAACGATCT_1 AAAGATGGTAATCACC_1 ...\n",
       "  TGGCGCAAGAAAGTGG_5 TGGCTGGTCGAATGCT_5\n",
       "colData names(1): Cluster"
      ]
     },
     "metadata": {},
     "output_type": "display_data"
    }
   ],
   "source": [
    "se"
   ]
  },
  {
   "cell_type": "code",
   "execution_count": null,
   "metadata": {},
   "outputs": [],
   "source": [
    "se_zinb <- zinbwave(se, K = 2, epsilon = 1000)"
   ]
  },
  {
   "cell_type": "code",
   "execution_count": null,
   "metadata": {},
   "outputs": [],
   "source": [
    "1+1"
   ]
  },
  {
   "cell_type": "code",
   "execution_count": 21,
   "metadata": {},
   "outputs": [
    {
     "data": {
      "text/plain": [
       "class: SingleCellExperiment \n",
       "dim: 1000 2855 \n",
       "metadata(0):\n",
       "assays(3): counts logcounts weights\n",
       "rownames(1000): ENSG00000251562 ENSG00000169605 ... ENSG00000120533\n",
       "  ENSG00000041357\n",
       "rowData names(0):\n",
       "colnames(2855): AAACGGGCAACGATCT_1 AAAGATGGTAATCACC_1 ...\n",
       "  TGGCGCAAGAAAGTGG_5 TGGCTGGTCGAATGCT_5\n",
       "colData names(1): Cluster\n",
       "reducedDimNames(1): zinbwave\n",
       "spikeNames(0):"
      ]
     },
     "metadata": {},
     "output_type": "display_data"
    }
   ],
   "source": [
    "se_zinb"
   ]
  },
  {
   "cell_type": "code",
   "execution_count": null,
   "metadata": {},
   "outputs": [],
   "source": [
    "table(colData(se)$Cluster)"
   ]
  },
  {
   "cell_type": "code",
   "execution_count": 135,
   "metadata": {},
   "outputs": [
    {
     "data": {
      "text/html": [
       "<table>\n",
       "<caption>A matrix: 2855 × 2 of type dbl</caption>\n",
       "<thead>\n",
       "\t<tr><th></th><th scope=col>W1</th><th scope=col>W2</th></tr>\n",
       "</thead>\n",
       "<tbody>\n",
       "\t<tr><th scope=row>AAACGGGCAACGATCT_1</th><td> 0.94329216</td><td>-0.10322756</td></tr>\n",
       "\t<tr><th scope=row>AAAGATGGTAATCACC_1</th><td> 0.52077943</td><td>-0.02719167</td></tr>\n",
       "\t<tr><th scope=row>AACCATGGTCCGACGT_1</th><td>-0.80994843</td><td>-0.49838680</td></tr>\n",
       "\t<tr><th scope=row>AACCGCGTCAAGGCTT_1</th><td> 0.99815047</td><td>-0.03489055</td></tr>\n",
       "\t<tr><th scope=row>AACTCCCCAAGAGTCG_1</th><td> 0.05024561</td><td>-0.13225685</td></tr>\n",
       "\t<tr><th scope=row>AACTTTCTCTCATTCA_1</th><td> 0.49832156</td><td> 1.31061982</td></tr>\n",
       "\t<tr><th scope=row>AAGACCTCAATACGCT_1</th><td> 0.28850243</td><td>-0.57445712</td></tr>\n",
       "\t<tr><th scope=row>AAGACCTGTACAGTTC_1</th><td> 0.83753764</td><td> 1.00201664</td></tr>\n",
       "\t<tr><th scope=row>AAGCCGCCAAGCGTAG_1</th><td> 0.79604240</td><td> 0.54295672</td></tr>\n",
       "\t<tr><th scope=row>AAGGCAGCAAGAAGAG_1</th><td> 0.50853989</td><td>-0.53105087</td></tr>\n",
       "\t<tr><th scope=row>ACACTGACAATGGAGC_1</th><td> 1.57214691</td><td>-0.39252215</td></tr>\n",
       "\t<tr><th scope=row>ACACTGACAGTGGGAT_1</th><td> 0.78216434</td><td> 0.35070725</td></tr>\n",
       "\t<tr><th scope=row>ACAGCCGAGGCTAGAC_1</th><td>-0.14440598</td><td>-1.25037779</td></tr>\n",
       "\t<tr><th scope=row>ACAGCTAAGCCACGCT_1</th><td> 0.45813759</td><td>-0.32252742</td></tr>\n",
       "\t<tr><th scope=row>ACCAGTATCGTTTAGG_1</th><td> 0.53859797</td><td> 0.27995425</td></tr>\n",
       "\t<tr><th scope=row>ACCGTAAGTATCGCAT_1</th><td> 1.16409277</td><td> 0.26605599</td></tr>\n",
       "\t<tr><th scope=row>ACCGTAAGTTGCGTTA_1</th><td> 0.17241629</td><td>-0.80933328</td></tr>\n",
       "\t<tr><th scope=row>ACGAGCCTCGGCCGAT_1</th><td> 0.93923885</td><td>-0.16336602</td></tr>\n",
       "\t<tr><th scope=row>ACGATACGTACAGACG_1</th><td>-0.22182180</td><td>-1.27529362</td></tr>\n",
       "\t<tr><th scope=row>ACGCAGCGTTCCAACA_1</th><td>-0.54114393</td><td> 1.77319221</td></tr>\n",
       "\t<tr><th scope=row>ACGGGCTTCCTTCAAT_1</th><td> 1.40177257</td><td>-0.03194954</td></tr>\n",
       "\t<tr><th scope=row>ACTATCTTCTCTGAGA_1</th><td> 0.92769397</td><td> 0.21649445</td></tr>\n",
       "\t<tr><th scope=row>ACTGCTCTCCAGTATG_1</th><td> 1.33200522</td><td>-0.16041258</td></tr>\n",
       "\t<tr><th scope=row>ACTGTCCTCACGCGGT_1</th><td> 1.07789348</td><td> 0.22811240</td></tr>\n",
       "\t<tr><th scope=row>AGCGTATGTGTTGAGG_1</th><td> 0.70498971</td><td> 1.51949534</td></tr>\n",
       "\t<tr><th scope=row>AGCTCCTCAGCCACCA_1</th><td> 0.85468240</td><td> 0.61238308</td></tr>\n",
       "\t<tr><th scope=row>AGCTCTCTCAAGGCTT_1</th><td> 1.12948989</td><td>-0.13456120</td></tr>\n",
       "\t<tr><th scope=row>AGCTCTCTCACGGTTA_1</th><td> 0.88441254</td><td> 0.67377867</td></tr>\n",
       "\t<tr><th scope=row>AGGGAGTAGAATAGGG_1</th><td> 1.05819871</td><td>-0.45063670</td></tr>\n",
       "\t<tr><th scope=row>AGGTCCGCAGCTGTAT_1</th><td>-0.59962512</td><td> 0.48128847</td></tr>\n",
       "\t<tr><th scope=row>⋮</th><td>⋮</td><td>⋮</td></tr>\n",
       "\t<tr><th scope=row>TACAGTGTCAACTCTT_4</th><td>-0.6367417</td><td>-2.28998967</td></tr>\n",
       "\t<tr><th scope=row>TACGGATGTATCAGTC_4</th><td>-2.0259429</td><td>-1.53643752</td></tr>\n",
       "\t<tr><th scope=row>TAGCCGGTCTAGAGTC_4</th><td>-0.7933352</td><td> 0.66875240</td></tr>\n",
       "\t<tr><th scope=row>TATCTCATCTTTAGGG_4</th><td> 0.0750506</td><td> 0.24321847</td></tr>\n",
       "\t<tr><th scope=row>TCCCGATAGCTCCCAG_4</th><td>-0.2517899</td><td> 0.01760616</td></tr>\n",
       "\t<tr><th scope=row>TCGGTAACACAGATTC_4</th><td>-2.2614554</td><td>-0.70439906</td></tr>\n",
       "\t<tr><th scope=row>TCGTAGAAGTCCAGGA_4</th><td>-1.3843234</td><td> 0.39144011</td></tr>\n",
       "\t<tr><th scope=row>TCTTCGGGTCATGCAT_4</th><td>-0.7129291</td><td> 0.06060395</td></tr>\n",
       "\t<tr><th scope=row>TGATTTCCACTAGTAC_4</th><td>-1.4510189</td><td> 0.51258467</td></tr>\n",
       "\t<tr><th scope=row>TGCCAAACAGCTCGAC_4</th><td>-0.4812659</td><td>-0.52533838</td></tr>\n",
       "\t<tr><th scope=row>TGCCCATGTGCAGTAG_4</th><td>-1.9046223</td><td>-0.75474852</td></tr>\n",
       "\t<tr><th scope=row>TGCCCTAAGGCGACAT_4</th><td>-0.5154557</td><td>-0.01341007</td></tr>\n",
       "\t<tr><th scope=row>TGCCCTACATCGGAAG_4</th><td>-0.6691331</td><td>-0.61911613</td></tr>\n",
       "\t<tr><th scope=row>TGGACGCCATGGTCAT_4</th><td>-1.0397826</td><td>-1.15575011</td></tr>\n",
       "\t<tr><th scope=row>TGGGCGTTCTACCAGA_4</th><td>-0.8045031</td><td>-0.15338441</td></tr>\n",
       "\t<tr><th scope=row>TGGTTCCAGCAGACTG_4</th><td>-1.2352607</td><td>-0.71850618</td></tr>\n",
       "\t<tr><th scope=row>TTAGGACCACAGATTC_4</th><td>-0.7599400</td><td> 0.44238607</td></tr>\n",
       "\t<tr><th scope=row>TTCGAAGTCTGCTGTC_4</th><td>-0.6126454</td><td>-0.21753493</td></tr>\n",
       "\t<tr><th scope=row>TTCTACACAACACCTA_4</th><td>-1.6947335</td><td>-0.58294858</td></tr>\n",
       "\t<tr><th scope=row>TTCTCAAAGTGTGAAT_4</th><td>-1.4864178</td><td>-1.08984972</td></tr>\n",
       "\t<tr><th scope=row>TTGGCAACAGTGACAG_4</th><td>-0.5987183</td><td>-1.52574827</td></tr>\n",
       "\t<tr><th scope=row>AGCGTATTCACGGTTA_5</th><td>-1.1049040</td><td> 1.65114098</td></tr>\n",
       "\t<tr><th scope=row>AGGGATGAGTGTGAAT_5</th><td>-1.6755967</td><td> 1.25159038</td></tr>\n",
       "\t<tr><th scope=row>ATGGGAGCATGTTCCC_5</th><td>-0.5982037</td><td> 1.18675596</td></tr>\n",
       "\t<tr><th scope=row>CATGGCGCACAGTCGC_5</th><td>-1.2555466</td><td> 1.39690779</td></tr>\n",
       "\t<tr><th scope=row>CTACCCATCAAGCCTA_5</th><td>-0.6280865</td><td> 1.12147597</td></tr>\n",
       "\t<tr><th scope=row>GACAGAGTCACAAACC_5</th><td>-0.7636664</td><td> 0.72578985</td></tr>\n",
       "\t<tr><th scope=row>TCATTACAGCATGGCA_5</th><td>-0.8415389</td><td> 1.00419768</td></tr>\n",
       "\t<tr><th scope=row>TGGCGCAAGAAAGTGG_5</th><td>-2.3782735</td><td>-0.40706930</td></tr>\n",
       "\t<tr><th scope=row>TGGCTGGTCGAATGCT_5</th><td>-1.0432412</td><td> 0.19775690</td></tr>\n",
       "</tbody>\n",
       "</table>\n"
      ],
      "text/latex": [
       "A matrix: 2855 × 2 of type dbl\n",
       "\\begin{tabular}{r|ll}\n",
       "  & W1 & W2\\\\\n",
       "\\hline\n",
       "\tAAACGGGCAACGATCT\\_1 &  0.94329216 & -0.10322756\\\\\n",
       "\tAAAGATGGTAATCACC\\_1 &  0.52077943 & -0.02719167\\\\\n",
       "\tAACCATGGTCCGACGT\\_1 & -0.80994843 & -0.49838680\\\\\n",
       "\tAACCGCGTCAAGGCTT\\_1 &  0.99815047 & -0.03489055\\\\\n",
       "\tAACTCCCCAAGAGTCG\\_1 &  0.05024561 & -0.13225685\\\\\n",
       "\tAACTTTCTCTCATTCA\\_1 &  0.49832156 &  1.31061982\\\\\n",
       "\tAAGACCTCAATACGCT\\_1 &  0.28850243 & -0.57445712\\\\\n",
       "\tAAGACCTGTACAGTTC\\_1 &  0.83753764 &  1.00201664\\\\\n",
       "\tAAGCCGCCAAGCGTAG\\_1 &  0.79604240 &  0.54295672\\\\\n",
       "\tAAGGCAGCAAGAAGAG\\_1 &  0.50853989 & -0.53105087\\\\\n",
       "\tACACTGACAATGGAGC\\_1 &  1.57214691 & -0.39252215\\\\\n",
       "\tACACTGACAGTGGGAT\\_1 &  0.78216434 &  0.35070725\\\\\n",
       "\tACAGCCGAGGCTAGAC\\_1 & -0.14440598 & -1.25037779\\\\\n",
       "\tACAGCTAAGCCACGCT\\_1 &  0.45813759 & -0.32252742\\\\\n",
       "\tACCAGTATCGTTTAGG\\_1 &  0.53859797 &  0.27995425\\\\\n",
       "\tACCGTAAGTATCGCAT\\_1 &  1.16409277 &  0.26605599\\\\\n",
       "\tACCGTAAGTTGCGTTA\\_1 &  0.17241629 & -0.80933328\\\\\n",
       "\tACGAGCCTCGGCCGAT\\_1 &  0.93923885 & -0.16336602\\\\\n",
       "\tACGATACGTACAGACG\\_1 & -0.22182180 & -1.27529362\\\\\n",
       "\tACGCAGCGTTCCAACA\\_1 & -0.54114393 &  1.77319221\\\\\n",
       "\tACGGGCTTCCTTCAAT\\_1 &  1.40177257 & -0.03194954\\\\\n",
       "\tACTATCTTCTCTGAGA\\_1 &  0.92769397 &  0.21649445\\\\\n",
       "\tACTGCTCTCCAGTATG\\_1 &  1.33200522 & -0.16041258\\\\\n",
       "\tACTGTCCTCACGCGGT\\_1 &  1.07789348 &  0.22811240\\\\\n",
       "\tAGCGTATGTGTTGAGG\\_1 &  0.70498971 &  1.51949534\\\\\n",
       "\tAGCTCCTCAGCCACCA\\_1 &  0.85468240 &  0.61238308\\\\\n",
       "\tAGCTCTCTCAAGGCTT\\_1 &  1.12948989 & -0.13456120\\\\\n",
       "\tAGCTCTCTCACGGTTA\\_1 &  0.88441254 &  0.67377867\\\\\n",
       "\tAGGGAGTAGAATAGGG\\_1 &  1.05819871 & -0.45063670\\\\\n",
       "\tAGGTCCGCAGCTGTAT\\_1 & -0.59962512 &  0.48128847\\\\\n",
       "\t⋮ & ⋮ & ⋮\\\\\n",
       "\tTACAGTGTCAACTCTT\\_4 & -0.6367417 & -2.28998967\\\\\n",
       "\tTACGGATGTATCAGTC\\_4 & -2.0259429 & -1.53643752\\\\\n",
       "\tTAGCCGGTCTAGAGTC\\_4 & -0.7933352 &  0.66875240\\\\\n",
       "\tTATCTCATCTTTAGGG\\_4 &  0.0750506 &  0.24321847\\\\\n",
       "\tTCCCGATAGCTCCCAG\\_4 & -0.2517899 &  0.01760616\\\\\n",
       "\tTCGGTAACACAGATTC\\_4 & -2.2614554 & -0.70439906\\\\\n",
       "\tTCGTAGAAGTCCAGGA\\_4 & -1.3843234 &  0.39144011\\\\\n",
       "\tTCTTCGGGTCATGCAT\\_4 & -0.7129291 &  0.06060395\\\\\n",
       "\tTGATTTCCACTAGTAC\\_4 & -1.4510189 &  0.51258467\\\\\n",
       "\tTGCCAAACAGCTCGAC\\_4 & -0.4812659 & -0.52533838\\\\\n",
       "\tTGCCCATGTGCAGTAG\\_4 & -1.9046223 & -0.75474852\\\\\n",
       "\tTGCCCTAAGGCGACAT\\_4 & -0.5154557 & -0.01341007\\\\\n",
       "\tTGCCCTACATCGGAAG\\_4 & -0.6691331 & -0.61911613\\\\\n",
       "\tTGGACGCCATGGTCAT\\_4 & -1.0397826 & -1.15575011\\\\\n",
       "\tTGGGCGTTCTACCAGA\\_4 & -0.8045031 & -0.15338441\\\\\n",
       "\tTGGTTCCAGCAGACTG\\_4 & -1.2352607 & -0.71850618\\\\\n",
       "\tTTAGGACCACAGATTC\\_4 & -0.7599400 &  0.44238607\\\\\n",
       "\tTTCGAAGTCTGCTGTC\\_4 & -0.6126454 & -0.21753493\\\\\n",
       "\tTTCTACACAACACCTA\\_4 & -1.6947335 & -0.58294858\\\\\n",
       "\tTTCTCAAAGTGTGAAT\\_4 & -1.4864178 & -1.08984972\\\\\n",
       "\tTTGGCAACAGTGACAG\\_4 & -0.5987183 & -1.52574827\\\\\n",
       "\tAGCGTATTCACGGTTA\\_5 & -1.1049040 &  1.65114098\\\\\n",
       "\tAGGGATGAGTGTGAAT\\_5 & -1.6755967 &  1.25159038\\\\\n",
       "\tATGGGAGCATGTTCCC\\_5 & -0.5982037 &  1.18675596\\\\\n",
       "\tCATGGCGCACAGTCGC\\_5 & -1.2555466 &  1.39690779\\\\\n",
       "\tCTACCCATCAAGCCTA\\_5 & -0.6280865 &  1.12147597\\\\\n",
       "\tGACAGAGTCACAAACC\\_5 & -0.7636664 &  0.72578985\\\\\n",
       "\tTCATTACAGCATGGCA\\_5 & -0.8415389 &  1.00419768\\\\\n",
       "\tTGGCGCAAGAAAGTGG\\_5 & -2.3782735 & -0.40706930\\\\\n",
       "\tTGGCTGGTCGAATGCT\\_5 & -1.0432412 &  0.19775690\\\\\n",
       "\\end{tabular}\n"
      ],
      "text/markdown": [
       "\n",
       "A matrix: 2855 × 2 of type dbl\n",
       "\n",
       "| <!--/--> | W1 | W2 |\n",
       "|---|---|---|\n",
       "| AAACGGGCAACGATCT_1 |  0.94329216 | -0.10322756 |\n",
       "| AAAGATGGTAATCACC_1 |  0.52077943 | -0.02719167 |\n",
       "| AACCATGGTCCGACGT_1 | -0.80994843 | -0.49838680 |\n",
       "| AACCGCGTCAAGGCTT_1 |  0.99815047 | -0.03489055 |\n",
       "| AACTCCCCAAGAGTCG_1 |  0.05024561 | -0.13225685 |\n",
       "| AACTTTCTCTCATTCA_1 |  0.49832156 |  1.31061982 |\n",
       "| AAGACCTCAATACGCT_1 |  0.28850243 | -0.57445712 |\n",
       "| AAGACCTGTACAGTTC_1 |  0.83753764 |  1.00201664 |\n",
       "| AAGCCGCCAAGCGTAG_1 |  0.79604240 |  0.54295672 |\n",
       "| AAGGCAGCAAGAAGAG_1 |  0.50853989 | -0.53105087 |\n",
       "| ACACTGACAATGGAGC_1 |  1.57214691 | -0.39252215 |\n",
       "| ACACTGACAGTGGGAT_1 |  0.78216434 |  0.35070725 |\n",
       "| ACAGCCGAGGCTAGAC_1 | -0.14440598 | -1.25037779 |\n",
       "| ACAGCTAAGCCACGCT_1 |  0.45813759 | -0.32252742 |\n",
       "| ACCAGTATCGTTTAGG_1 |  0.53859797 |  0.27995425 |\n",
       "| ACCGTAAGTATCGCAT_1 |  1.16409277 |  0.26605599 |\n",
       "| ACCGTAAGTTGCGTTA_1 |  0.17241629 | -0.80933328 |\n",
       "| ACGAGCCTCGGCCGAT_1 |  0.93923885 | -0.16336602 |\n",
       "| ACGATACGTACAGACG_1 | -0.22182180 | -1.27529362 |\n",
       "| ACGCAGCGTTCCAACA_1 | -0.54114393 |  1.77319221 |\n",
       "| ACGGGCTTCCTTCAAT_1 |  1.40177257 | -0.03194954 |\n",
       "| ACTATCTTCTCTGAGA_1 |  0.92769397 |  0.21649445 |\n",
       "| ACTGCTCTCCAGTATG_1 |  1.33200522 | -0.16041258 |\n",
       "| ACTGTCCTCACGCGGT_1 |  1.07789348 |  0.22811240 |\n",
       "| AGCGTATGTGTTGAGG_1 |  0.70498971 |  1.51949534 |\n",
       "| AGCTCCTCAGCCACCA_1 |  0.85468240 |  0.61238308 |\n",
       "| AGCTCTCTCAAGGCTT_1 |  1.12948989 | -0.13456120 |\n",
       "| AGCTCTCTCACGGTTA_1 |  0.88441254 |  0.67377867 |\n",
       "| AGGGAGTAGAATAGGG_1 |  1.05819871 | -0.45063670 |\n",
       "| AGGTCCGCAGCTGTAT_1 | -0.59962512 |  0.48128847 |\n",
       "| ⋮ | ⋮ | ⋮ |\n",
       "| TACAGTGTCAACTCTT_4 | -0.6367417 | -2.28998967 |\n",
       "| TACGGATGTATCAGTC_4 | -2.0259429 | -1.53643752 |\n",
       "| TAGCCGGTCTAGAGTC_4 | -0.7933352 |  0.66875240 |\n",
       "| TATCTCATCTTTAGGG_4 |  0.0750506 |  0.24321847 |\n",
       "| TCCCGATAGCTCCCAG_4 | -0.2517899 |  0.01760616 |\n",
       "| TCGGTAACACAGATTC_4 | -2.2614554 | -0.70439906 |\n",
       "| TCGTAGAAGTCCAGGA_4 | -1.3843234 |  0.39144011 |\n",
       "| TCTTCGGGTCATGCAT_4 | -0.7129291 |  0.06060395 |\n",
       "| TGATTTCCACTAGTAC_4 | -1.4510189 |  0.51258467 |\n",
       "| TGCCAAACAGCTCGAC_4 | -0.4812659 | -0.52533838 |\n",
       "| TGCCCATGTGCAGTAG_4 | -1.9046223 | -0.75474852 |\n",
       "| TGCCCTAAGGCGACAT_4 | -0.5154557 | -0.01341007 |\n",
       "| TGCCCTACATCGGAAG_4 | -0.6691331 | -0.61911613 |\n",
       "| TGGACGCCATGGTCAT_4 | -1.0397826 | -1.15575011 |\n",
       "| TGGGCGTTCTACCAGA_4 | -0.8045031 | -0.15338441 |\n",
       "| TGGTTCCAGCAGACTG_4 | -1.2352607 | -0.71850618 |\n",
       "| TTAGGACCACAGATTC_4 | -0.7599400 |  0.44238607 |\n",
       "| TTCGAAGTCTGCTGTC_4 | -0.6126454 | -0.21753493 |\n",
       "| TTCTACACAACACCTA_4 | -1.6947335 | -0.58294858 |\n",
       "| TTCTCAAAGTGTGAAT_4 | -1.4864178 | -1.08984972 |\n",
       "| TTGGCAACAGTGACAG_4 | -0.5987183 | -1.52574827 |\n",
       "| AGCGTATTCACGGTTA_5 | -1.1049040 |  1.65114098 |\n",
       "| AGGGATGAGTGTGAAT_5 | -1.6755967 |  1.25159038 |\n",
       "| ATGGGAGCATGTTCCC_5 | -0.5982037 |  1.18675596 |\n",
       "| CATGGCGCACAGTCGC_5 | -1.2555466 |  1.39690779 |\n",
       "| CTACCCATCAAGCCTA_5 | -0.6280865 |  1.12147597 |\n",
       "| GACAGAGTCACAAACC_5 | -0.7636664 |  0.72578985 |\n",
       "| TCATTACAGCATGGCA_5 | -0.8415389 |  1.00419768 |\n",
       "| TGGCGCAAGAAAGTGG_5 | -2.3782735 | -0.40706930 |\n",
       "| TGGCTGGTCGAATGCT_5 | -1.0432412 |  0.19775690 |\n",
       "\n"
      ],
      "text/plain": [
       "                   W1          W2         \n",
       "AAACGGGCAACGATCT_1  0.94329216 -0.10322756\n",
       "AAAGATGGTAATCACC_1  0.52077943 -0.02719167\n",
       "AACCATGGTCCGACGT_1 -0.80994843 -0.49838680\n",
       "AACCGCGTCAAGGCTT_1  0.99815047 -0.03489055\n",
       "AACTCCCCAAGAGTCG_1  0.05024561 -0.13225685\n",
       "AACTTTCTCTCATTCA_1  0.49832156  1.31061982\n",
       "AAGACCTCAATACGCT_1  0.28850243 -0.57445712\n",
       "AAGACCTGTACAGTTC_1  0.83753764  1.00201664\n",
       "AAGCCGCCAAGCGTAG_1  0.79604240  0.54295672\n",
       "AAGGCAGCAAGAAGAG_1  0.50853989 -0.53105087\n",
       "ACACTGACAATGGAGC_1  1.57214691 -0.39252215\n",
       "ACACTGACAGTGGGAT_1  0.78216434  0.35070725\n",
       "ACAGCCGAGGCTAGAC_1 -0.14440598 -1.25037779\n",
       "ACAGCTAAGCCACGCT_1  0.45813759 -0.32252742\n",
       "ACCAGTATCGTTTAGG_1  0.53859797  0.27995425\n",
       "ACCGTAAGTATCGCAT_1  1.16409277  0.26605599\n",
       "ACCGTAAGTTGCGTTA_1  0.17241629 -0.80933328\n",
       "ACGAGCCTCGGCCGAT_1  0.93923885 -0.16336602\n",
       "ACGATACGTACAGACG_1 -0.22182180 -1.27529362\n",
       "ACGCAGCGTTCCAACA_1 -0.54114393  1.77319221\n",
       "ACGGGCTTCCTTCAAT_1  1.40177257 -0.03194954\n",
       "ACTATCTTCTCTGAGA_1  0.92769397  0.21649445\n",
       "ACTGCTCTCCAGTATG_1  1.33200522 -0.16041258\n",
       "ACTGTCCTCACGCGGT_1  1.07789348  0.22811240\n",
       "AGCGTATGTGTTGAGG_1  0.70498971  1.51949534\n",
       "AGCTCCTCAGCCACCA_1  0.85468240  0.61238308\n",
       "AGCTCTCTCAAGGCTT_1  1.12948989 -0.13456120\n",
       "AGCTCTCTCACGGTTA_1  0.88441254  0.67377867\n",
       "AGGGAGTAGAATAGGG_1  1.05819871 -0.45063670\n",
       "AGGTCCGCAGCTGTAT_1 -0.59962512  0.48128847\n",
       "⋮                  ⋮           ⋮          \n",
       "TACAGTGTCAACTCTT_4 -0.6367417  -2.28998967\n",
       "TACGGATGTATCAGTC_4 -2.0259429  -1.53643752\n",
       "TAGCCGGTCTAGAGTC_4 -0.7933352   0.66875240\n",
       "TATCTCATCTTTAGGG_4  0.0750506   0.24321847\n",
       "TCCCGATAGCTCCCAG_4 -0.2517899   0.01760616\n",
       "TCGGTAACACAGATTC_4 -2.2614554  -0.70439906\n",
       "TCGTAGAAGTCCAGGA_4 -1.3843234   0.39144011\n",
       "TCTTCGGGTCATGCAT_4 -0.7129291   0.06060395\n",
       "TGATTTCCACTAGTAC_4 -1.4510189   0.51258467\n",
       "TGCCAAACAGCTCGAC_4 -0.4812659  -0.52533838\n",
       "TGCCCATGTGCAGTAG_4 -1.9046223  -0.75474852\n",
       "TGCCCTAAGGCGACAT_4 -0.5154557  -0.01341007\n",
       "TGCCCTACATCGGAAG_4 -0.6691331  -0.61911613\n",
       "TGGACGCCATGGTCAT_4 -1.0397826  -1.15575011\n",
       "TGGGCGTTCTACCAGA_4 -0.8045031  -0.15338441\n",
       "TGGTTCCAGCAGACTG_4 -1.2352607  -0.71850618\n",
       "TTAGGACCACAGATTC_4 -0.7599400   0.44238607\n",
       "TTCGAAGTCTGCTGTC_4 -0.6126454  -0.21753493\n",
       "TTCTACACAACACCTA_4 -1.6947335  -0.58294858\n",
       "TTCTCAAAGTGTGAAT_4 -1.4864178  -1.08984972\n",
       "TTGGCAACAGTGACAG_4 -0.5987183  -1.52574827\n",
       "AGCGTATTCACGGTTA_5 -1.1049040   1.65114098\n",
       "AGGGATGAGTGTGAAT_5 -1.6755967   1.25159038\n",
       "ATGGGAGCATGTTCCC_5 -0.5982037   1.18675596\n",
       "CATGGCGCACAGTCGC_5 -1.2555466   1.39690779\n",
       "CTACCCATCAAGCCTA_5 -0.6280865   1.12147597\n",
       "GACAGAGTCACAAACC_5 -0.7636664   0.72578985\n",
       "TCATTACAGCATGGCA_5 -0.8415389   1.00419768\n",
       "TGGCGCAAGAAAGTGG_5 -2.3782735  -0.40706930\n",
       "TGGCTGGTCGAATGCT_5 -1.0432412   0.19775690"
      ]
     },
     "metadata": {},
     "output_type": "display_data"
    }
   ],
   "source": [
    "W"
   ]
  },
  {
   "cell_type": "code",
   "execution_count": 32,
   "metadata": {},
   "outputs": [
    {
     "data": {
      "image/png": "[encoded data removed]",
      "text/plain": [
       "plot without title"
      ]
     },
     "metadata": {},
     "output_type": "display_data"
    }
   ],
   "source": [
    "W <- reducedDim(se_zinb)\n",
    "\n",
    "data.frame(W,cluster=colData(se)$Cluster) %>% ggplot(aes(W1, W2,colour=cluster)) + geom_point() +\n",
    "theme_classic()"
   ]
  },
  {
   "cell_type": "code",
   "execution_count": 124,
   "metadata": {},
   "outputs": [
    {
     "data": {
      "text/plain": [
       "class: SummarizedExperiment \n",
       "dim: 100 2855 \n",
       "metadata(0):\n",
       "assays(2): counts logcounts\n",
       "rownames(100): ENSG00000251562 ENSG00000169605 ... ENSG00000174748\n",
       "  ENSG00000163993\n",
       "rowData names(0):\n",
       "colnames(2855): AAACGGGCAACGATCT_1 AAAGATGGTAATCACC_1 ...\n",
       "  TGGCGCAAGAAAGTGG_5 TGGCTGGTCGAATGCT_5\n",
       "colData names(1): Cluster"
      ]
     },
     "metadata": {},
     "output_type": "display_data"
    }
   ],
   "source": [
    "se"
   ]
  },
  {
   "cell_type": "code",
   "execution_count": 33,
   "metadata": {},
   "outputs": [
    {
     "data": {
      "image/png": "[encoded data removed]",
      "text/plain": [
       "plot without title"
      ]
     },
     "metadata": {},
     "output_type": "display_data"
    }
   ],
   "source": [
    "library(Rtsne)\n",
    "\n",
    "tsne_data <- Rtsne(W, pca = FALSE, perplexity=10, max_iter=5000)\n",
    "\n",
    "data.frame(Dim1=tsne_data$Y[,1], Dim2=tsne_data$Y[,2], \n",
    "           bio=colData(se)$Cluster) %>%\n",
    "    ggplot(aes(Dim1, Dim2, colour=bio)) + geom_point() + \n",
    "    scale_color_brewer(type = \"qual\", palette = \"Set1\") + theme_classic()"
   ]
  },
  {
   "cell_type": "code",
   "execution_count": null,
   "metadata": {},
   "outputs": [],
   "source": [
    "weights <- assay(se_zinb, \"weights\")"
   ]
  },
  {
   "cell_type": "code",
   "execution_count": null,
   "metadata": {},
   "outputs": [],
   "source": [
    "dds <- DESeqDataSet(se_zinb, design = ~ Cluster)"
   ]
  },
  {
   "cell_type": "code",
   "execution_count": null,
   "metadata": {},
   "outputs": [],
   "source": [
    "dds <- DESeq(dds, sfType = \"poscounts\", useT=TRUE, minmu=1e-6)"
   ]
  },
  {
   "cell_type": "code",
   "execution_count": null,
   "metadata": {},
   "outputs": [],
   "source": [
    "res <- lfcShrink(dds, contrast = c(\"Cluster3\",\"3\",\"others\"), type = 'normal')"
   ]
  },
  {
   "cell_type": "code",
   "execution_count": null,
   "metadata": {},
   "outputs": [],
   "source": [
    "res5 <- lfcShrink(dds, contrast = c(\"Cluster5\",\"5\",\"others\"), type = 'normal')"
   ]
  },
  {
   "cell_type": "code",
   "execution_count": null,
   "metadata": {},
   "outputs": [],
   "source": [
    "res7 <- lfcShrink(dds, contrast = c(\"Cluster7\",\"7\",\"others\"), type = 'normal')"
   ]
  },
  {
   "cell_type": "code",
   "execution_count": null,
   "metadata": {},
   "outputs": [],
   "source": [
    "res13 <- lfcShrink(dds, contrast = c(\"Cluster13\",\"13\",\"others\"), type = 'normal')"
   ]
  },
  {
   "cell_type": "code",
   "execution_count": null,
   "metadata": {},
   "outputs": [],
   "source": [
    "head(res)"
   ]
  },
  {
   "cell_type": "code",
   "execution_count": 198,
   "metadata": {},
   "outputs": [
    {
     "data": {
      "text/plain": [
       "class: SummarizedExperiment \n",
       "dim: 10000 2855 \n",
       "metadata(0):\n",
       "assays(2): counts logcounts\n",
       "rownames(10000): ENSG00000251562 ENSG00000169605 ... ENSG00000145687\n",
       "  ENSG00000174292\n",
       "rowData names(0):\n",
       "colnames(2855): AAACGGGCAACGATCT_1 AAAGATGGTAATCACC_1 ...\n",
       "  TGGCGCAAGAAAGTGG_5 TGGCTGGTCGAATGCT_5\n",
       "colData names(5): Cluster Cluster3 Cluster5 Cluster7 Cluster13"
      ]
     },
     "metadata": {},
     "output_type": "display_data"
    }
   ],
   "source": [
    "se"
   ]
  },
  {
   "cell_type": "code",
   "execution_count": 199,
   "metadata": {},
   "outputs": [],
   "source": [
    "library(BiocParallel)"
   ]
  },
  {
   "cell_type": "code",
   "execution_count": 202,
   "metadata": {},
   "outputs": [
    {
     "data": {
      "text/html": [
       "2"
      ],
      "text/latex": [
       "2"
      ],
      "text/markdown": [
       "2"
      ],
      "text/plain": [
       "[1] 2"
      ]
     },
     "metadata": {},
     "output_type": "display_data"
    }
   ],
   "source": [
    "1+1"
   ]
  },
  {
   "cell_type": "code",
   "execution_count": null,
   "metadata": {},
   "outputs": [],
   "source": []
  }
 ],
 "metadata": {
  "kernelspec": {
   "display_name": "R",
   "language": "R",
   "name": "ir"
  },
  "language_info": {
   "codemirror_mode": "r",
   "file_extension": ".r",
   "mimetype": "text/x-r-source",
   "name": "R",
   "pygments_lexer": "r",
   "version": "3.5.1"
  }
 },
 "nbformat": 4,
 "nbformat_minor": 2
}
