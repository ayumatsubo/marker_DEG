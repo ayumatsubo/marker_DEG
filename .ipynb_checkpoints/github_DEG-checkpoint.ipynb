{
 "cells": [
  {
   "cell_type": "code",
   "execution_count": null,
   "metadata": {},
   "outputs": [],
   "source": [
    "library(Seurat)\n",
    "library(Matrix)\n",
    "library(ggplot2)\n",
    "library(cowplot)\n",
    "library(dplyr)\n",
    "library(enrichR)\n",
    "library(DESeq2)"
   ]
  },
  {
   "cell_type": "code",
   "execution_count": null,
   "metadata": {},
   "outputs": [],
   "source": [
    "# すでにクラスターが割り当てられたSeuratのデータを読み込み\n",
    "load('stomach.Rdata')"
   ]
  },
  {
   "cell_type": "code",
   "execution_count": 4,
   "metadata": {},
   "outputs": [
    {
     "data": {
      "text/plain": [
       "An object of class Seurat \n",
       "18697 features across 2855 samples within 2 assays \n",
       "Active assay: integrated (2000 features)\n",
       " 1 other assay present: RNA\n",
       " 2 dimensional reductions calculated: pca, tsne"
      ]
     },
     "metadata": {},
     "output_type": "display_data"
    }
   ],
   "source": [
    "stomach"
   ]
  },
  {
   "cell_type": "code",
   "execution_count": 233,
   "metadata": {},
   "outputs": [],
   "source": [
    "# 細胞の名前を指定\n",
    "cells = c('10N-total','11N-total','6N-total','8N-total','9N-total') "
   ]
  },
  {
   "cell_type": "code",
   "execution_count": null,
   "metadata": {},
   "outputs": [],
   "source": [
    "# dir\n",
    "# 元のデータのある場所を指定している\n",
    "matrix_dir = \"/data/share/scRNAseq/results/human_STAD/\"\n",
    "matrix_dir2 = '/outs/filtered_feature_bc_matrix/'\n",
    "for(i in 1:length(cells)){\n",
    "barcode.path <- paste0(matrix_dir, cells[i], matrix_dir2, \"barcodes.tsv.gz\")\n",
    "features.path <- paste0(matrix_dir, cells[i], matrix_dir2, \"features.tsv.gz\")\n",
    "matrix.path <- paste0(matrix_dir, cells[i], matrix_dir2, \"matrix.mtx.gz\")"
   ]
  },
  {
   "cell_type": "code",
   "execution_count": 234,
   "metadata": {},
   "outputs": [],
   "source": [
    "mat <- readMM(file = matrix.path)\n",
    "feature.names = read.delim(features.path, \n",
    "                           header = FALSE,\n",
    "                           stringsAsFactors = FALSE)\n",
    "barcode.names = read.delim(barcode.path, \n",
    "                           header = FALSE,\n",
    "                           stringsAsFactors = FALSE)\n",
    "colnames(mat) = paste0(sub('-1','_',barcode.names$V1),i) # SeuratだとUMI末尾が_., rawだと-1のため、変換\n",
    "rownames(mat) = feature.names$V1\n",
    "\n",
    "# cluster3のmatrix\n",
    "a <- stomach@meta.data[stomach@meta.data[,1]==cells[i],]\n",
    "b <- a[a$integrated_snn_res.0.8==3,]\n",
    "cluster3_UMI = rownames(b) \n",
    "    if(i==1){mat_cluster3=mat[,cluster3_UMI]}\n",
    "    else {mat_cluster3=cbind(mat_cluster3,mat[,cluster3_UMI])}\n",
    "\n",
    "# cluster5のmatrix\n",
    "a <- stomach@meta.data[stomach@meta.data[,1]==cells[i],]\n",
    "b <- a[a$integrated_snn_res.0.8==5,]\n",
    "cluster5_UMI = rownames(b)\n",
    "    if(i==1){mat_cluster5=mat[,cluster5_UMI]}\n",
    "    else {mat_cluster5=cbind(mat_cluster5,mat[,cluster5_UMI])}\n",
    "\n",
    "# cluster7のmatrix\n",
    "a <- stomach@meta.data[stomach@meta.data[,1]==cells[i],]\n",
    "b <- a[a$integrated_snn_res.0.8==7,]\n",
    "cluster7_UMI = rownames(b)\n",
    "    if(i==1){mat_cluster7=mat[,cluster7_UMI]}\n",
    "    else {mat_cluster7=cbind(mat_cluster7,mat[,cluster7_UMI])}\n",
    "\n",
    "# cluster13のmatrix\n",
    "a <- stomach@meta.data[stomach@meta.data[,1]==cells[i],]\n",
    "b <- a[a$integrated_snn_res.0.8==13,]\n",
    "cluster13_UMI = rownames(b)\n",
    "    if(i==1){mat_cluster13=mat[,cluster13_UMI]}\n",
    "    else {mat_cluster13=cbind(mat_cluster13,mat[,cluster13_UMI])}\n",
    "}"
   ]
  },
  {
   "cell_type": "code",
   "execution_count": null,
   "metadata": {},
   "outputs": [],
   "source": [
    "# 一旦データを保存\n",
    "save(mat_cluster3,file=\"/home/tsubosaka/stomach_normal_marker/RData/mat_cluster3.Rdata\")\n",
    "save(mat_cluster5,file=\"/home/tsubosaka/stomach_normal_marker/RData/mat_cluster5.Rdata\")\n",
    "save(mat_cluster7,file=\"/home/tsubosaka/stomach_normal_marker/RData/mat_cluster7.Rdata\")\n",
    "save(mat_cluster13,file=\"/home/tsubosaka/stomach_normal_marker/RData/mat_cluster13.Rdata\")"
   ]
  },
  {
   "cell_type": "code",
   "execution_count": null,
   "metadata": {},
   "outputs": [],
   "source": [
    "library(zinbwave)\n",
    "library(scRNAseq)\n",
    "library(matrixStats)\n",
    "library(magrittr)\n",
    "library(ggplot2)\n",
    "library(biomaRt)"
   ]
  },
  {
   "cell_type": "code",
   "execution_count": null,
   "metadata": {},
   "outputs": [],
   "source": [
    "# 保存していたデータをロード\n",
    "load('/home/tsubosaka/stomach_normal_marker/RData/mat_cluster3.Rdata')\n",
    "load('/home/tsubosaka/stomach_normal_marker/RData/mat_cluster5.Rdata')\n",
    "load('/home/tsubosaka/stomach_normal_marker/RData/mat_cluster7.Rdata')\n",
    "load('/home/tsubosaka/stomach_normal_marker/RData/mat_cluster13.Rdata')"
   ]
  },
  {
   "cell_type": "code",
   "execution_count": null,
   "metadata": {},
   "outputs": [],
   "source": [
    "# count matrixを統合\n",
    "countA = as.matrix(cbind(mat_cluster3, mat_cluster5, mat_cluster7, mat_cluster13))"
   ]
  },
  {
   "cell_type": "code",
   "execution_count": null,
   "metadata": {},
   "outputs": [],
   "source": [
    "# SummarizedExperimentに変換\n",
    "se <- SummarizedExperiment(assays=list(counts=countA, logcounts=log2(countA+1)))"
   ]
  },
  {
   "cell_type": "code",
   "execution_count": null,
   "metadata": {},
   "outputs": [],
   "source": [
    "# clusterの情報を付与\n",
    "# cluster3 → 1237個\n",
    "# cluster5 → 759個\n",
    "# cluster7 → 641個\n",
    "# cluster13→ 218個\n",
    "colData <- DataFrame(Cluster=c(rep(\"3\", 1237),rep(\"5\",759),rep(\"7\",641),rep(\"13\",218)),\n",
    "                     Cluster3=c(rep(\"3\",1237),rep('others',2855-1237)),\n",
    "                     Cluster5=c(rep(\"others\",1237),rep('5',759),rep('others',641+218)),\n",
    "                     Cluster7=c(rep(\"others\",1237+759),rep('7',641),rep('others',218)),\n",
    "                     Cluster13=c(rep(\"others\",2855-218),rep('13',218)),\n",
    "                     row.names=colnames(se))\n",
    "colData(se) <- colData"
   ]
  },
  {
   "cell_type": "code",
   "execution_count": null,
   "metadata": {},
   "outputs": [],
   "source": [
    "# 一つも発現していない遺伝子・細胞は除く\n",
    "filter <- rowSums(assay(se)>0)>0\n",
    "table(filter)"
   ]
  },
  {
   "cell_type": "code",
   "execution_count": null,
   "metadata": {},
   "outputs": [],
   "source": [
    "se <- se[filter,]"
   ]
  },
  {
   "cell_type": "code",
   "execution_count": null,
   "metadata": {},
   "outputs": [],
   "source": [
    "assay(se) %>% log1p %>% rowVars -> vars\n",
    "names(vars) <- rownames(se)\n",
    "vars <- sort(vars, decreasing = TRUE)\n",
    "head(vars)"
   ]
  },
  {
   "cell_type": "code",
   "execution_count": null,
   "metadata": {},
   "outputs": [],
   "source": [
    "# 上から10000遺伝子のみ\n",
    "se <- se[names(vars)[1:10000],]"
   ]
  },
  {
   "cell_type": "code",
   "execution_count": null,
   "metadata": {},
   "outputs": [],
   "source": [
    "# ZINB-Wave 時間かかる\n",
    "se_zinb <- zinbwave(se, K = 2, epsilon = 100)"
   ]
  },
  {
   "cell_type": "code",
   "execution_count": null,
   "metadata": {},
   "outputs": [],
   "source": [
    "# scRNAseq用に重みをつける\n",
    "weights <- assay(se_zinb, \"weights\")"
   ]
  },
  {
   "cell_type": "code",
   "execution_count": null,
   "metadata": {},
   "outputs": [],
   "source": [
    "# DESeq2を起動\n",
    "dds <- DESeqDataSet(se_zinb, design = ~ Cluster)\n",
    "\n",
    "dds <- DESeq(dds, sfType = \"poscounts\", useT=TRUE, minmu=1e-6)\n",
    "\n",
    "res <- lfcShrink(dds, contrast = c(\"Cluster3\",\"3\",\"others\"), type = 'normal')\n",
    "\n",
    "res5 <- lfcShrink(dds, contrast = c(\"Cluster5\",\"5\",\"others\"), type = 'normal')\n",
    "\n",
    "res7 <- lfcShrink(dds, contrast = c(\"Cluster7\",\"7\",\"others\"), type = 'normal')\n",
    "\n",
    "res13 <- lfcShrink(dds, contrast = c(\"Cluster13\",\"13\",\"others\"), type = 'normal')"
   ]
  }
 ],
 "metadata": {
  "kernelspec": {
   "display_name": "R",
   "language": "R",
   "name": "ir"
  },
  "language_info": {
   "codemirror_mode": "r",
   "file_extension": ".r",
   "mimetype": "text/x-r-source",
   "name": "R",
   "pygments_lexer": "r",
   "version": "3.5.1"
  }
 },
 "nbformat": 4,
 "nbformat_minor": 2
}
