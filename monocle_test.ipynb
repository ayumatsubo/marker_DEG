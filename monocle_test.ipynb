{
 "cells": [
  {
   "cell_type": "code",
   "execution_count": 1,
   "metadata": {},
   "outputs": [
    {
     "name": "stderr",
     "output_type": "stream",
     "text": [
      "Loading required package: Biobase\n",
      "Loading required package: BiocGenerics\n",
      "Loading required package: parallel\n",
      "\n",
      "Attaching package: ‘BiocGenerics’\n",
      "\n",
      "The following objects are masked from ‘package:parallel’:\n",
      "\n",
      "    clusterApply, clusterApplyLB, clusterCall, clusterEvalQ,\n",
      "    clusterExport, clusterMap, parApply, parCapply, parLapply,\n",
      "    parLapplyLB, parRapply, parSapply, parSapplyLB\n",
      "\n",
      "The following objects are masked from ‘package:stats’:\n",
      "\n",
      "    IQR, mad, sd, var, xtabs\n",
      "\n",
      "The following objects are masked from ‘package:base’:\n",
      "\n",
      "    anyDuplicated, append, as.data.frame, basename, cbind, colnames,\n",
      "    dirname, do.call, duplicated, eval, evalq, Filter, Find, get, grep,\n",
      "    grepl, intersect, is.unsorted, lapply, Map, mapply, match, mget,\n",
      "    order, paste, pmax, pmax.int, pmin, pmin.int, Position, rank,\n",
      "    rbind, Reduce, rownames, sapply, setdiff, sort, table, tapply,\n",
      "    union, unique, unsplit, which, which.max, which.min\n",
      "\n",
      "Welcome to Bioconductor\n",
      "\n",
      "    Vignettes contain introductory material; view with\n",
      "    'browseVignettes()'. To cite Bioconductor, see\n",
      "    'citation(\"Biobase\")', and for packages 'citation(\"pkgname\")'.\n",
      "\n",
      "Loading required package: SingleCellExperiment\n",
      "Loading required package: SummarizedExperiment\n",
      "Loading required package: GenomicRanges\n",
      "Loading required package: stats4\n",
      "Loading required package: S4Vectors\n",
      "\n",
      "Attaching package: ‘S4Vectors’\n",
      "\n",
      "The following object is masked from ‘package:base’:\n",
      "\n",
      "    expand.grid\n",
      "\n",
      "Loading required package: IRanges\n",
      "Loading required package: GenomeInfoDb\n",
      "Loading required package: DelayedArray\n",
      "Loading required package: matrixStats\n",
      "\n",
      "Attaching package: ‘matrixStats’\n",
      "\n",
      "The following objects are masked from ‘package:Biobase’:\n",
      "\n",
      "    anyMissing, rowMedians\n",
      "\n",
      "Loading required package: BiocParallel\n",
      "\n",
      "Attaching package: ‘DelayedArray’\n",
      "\n",
      "The following objects are masked from ‘package:matrixStats’:\n",
      "\n",
      "    colMaxs, colMins, colRanges, rowMaxs, rowMins, rowRanges\n",
      "\n",
      "The following objects are masked from ‘package:base’:\n",
      "\n",
      "    aperm, apply, rowsum\n",
      "\n",
      "\n",
      "Attaching package: ‘monocle3’\n",
      "\n",
      "The following objects are masked from ‘package:Biobase’:\n",
      "\n",
      "    exprs, fData, fData<-, pData, pData<-\n",
      "\n"
     ]
    }
   ],
   "source": [
    "library(monocle3)"
   ]
  },
  {
   "cell_type": "code",
   "execution_count": 2,
   "metadata": {},
   "outputs": [
    {
     "name": "stderr",
     "output_type": "stream",
     "text": [
      "Registered S3 method overwritten by 'R.oo':\n",
      "  method        from       \n",
      "  throw.default R.methodsS3\n",
      "\n",
      "Attaching package: ‘Seurat’\n",
      "\n",
      "The following object is masked from ‘package:SummarizedExperiment’:\n",
      "\n",
      "    Assays\n",
      "\n",
      "\n",
      "Attaching package: ‘Matrix’\n",
      "\n",
      "The following object is masked from ‘package:S4Vectors’:\n",
      "\n",
      "    expand\n",
      "\n",
      "\n",
      "********************************************************\n",
      "Note: As of version 1.0.0, cowplot does not change the\n",
      "  default ggplot2 theme anymore. To recover the previous\n",
      "  behavior, execute:\n",
      "  theme_set(theme_cowplot())\n",
      "********************************************************\n",
      "\n",
      "\n",
      "Attaching package: ‘dplyr’\n",
      "\n",
      "The following object is masked from ‘package:matrixStats’:\n",
      "\n",
      "    count\n",
      "\n",
      "The following objects are masked from ‘package:GenomicRanges’:\n",
      "\n",
      "    intersect, setdiff, union\n",
      "\n",
      "The following object is masked from ‘package:GenomeInfoDb’:\n",
      "\n",
      "    intersect\n",
      "\n",
      "The following objects are masked from ‘package:IRanges’:\n",
      "\n",
      "    collapse, desc, intersect, setdiff, slice, union\n",
      "\n",
      "The following objects are masked from ‘package:S4Vectors’:\n",
      "\n",
      "    first, intersect, rename, setdiff, setequal, union\n",
      "\n",
      "The following object is masked from ‘package:Biobase’:\n",
      "\n",
      "    combine\n",
      "\n",
      "The following objects are masked from ‘package:BiocGenerics’:\n",
      "\n",
      "    combine, intersect, setdiff, union\n",
      "\n",
      "The following objects are masked from ‘package:stats’:\n",
      "\n",
      "    filter, lag\n",
      "\n",
      "The following objects are masked from ‘package:base’:\n",
      "\n",
      "    intersect, setdiff, setequal, union\n",
      "\n",
      "Welcome to enrichR\n",
      "Checking connection ... EnrichR website not responding\n"
     ]
    }
   ],
   "source": [
    "library(Seurat)\n",
    "library(Matrix)\n",
    "library(ggplot2)\n",
    "library(cowplot)\n",
    "library(dplyr)\n",
    "library(enrichR)"
   ]
  },
  {
   "cell_type": "code",
   "execution_count": 3,
   "metadata": {},
   "outputs": [],
   "source": [
    "library(schex)"
   ]
  },
  {
   "cell_type": "code",
   "execution_count": 5,
   "metadata": {},
   "outputs": [],
   "source": [
    "load('N-stomach-fibroblasts.RData')\n",
    "load('N-stomach-endothelials.RData')\n",
    "load('N-stomach-macrophages.RData')\n",
    "load('N-stomach-epithelials.RData')\n",
    "load('N-stomach-immunes.RData')"
   ]
  },
  {
   "cell_type": "code",
   "execution_count": 6,
   "metadata": {},
   "outputs": [],
   "source": [
    "load('N-stomach-all.RData')"
   ]
  },
  {
   "cell_type": "code",
   "execution_count": 7,
   "metadata": {},
   "outputs": [],
   "source": [
    "library(RaceID)"
   ]
  },
  {
   "cell_type": "code",
   "execution_count": 12,
   "metadata": {},
   "outputs": [],
   "source": [
    "expression_matrix <- readRDS(\"packer_embryo_expression.rds\")\n",
    "cell_metadata <- readRDS(\"packer_embryo_colData.rds\")\n",
    "gene_annotation <- readRDS(\"packer_embryo_rowData.rds\")\n",
    "\n",
    "cds <- new_cell_data_set(expression_matrix,\n",
    "                         cell_metadata = cell_metadata,\n",
    "                         gene_metadata = gene_annotation)"
   ]
  },
  {
   "cell_type": "markdown",
   "metadata": {},
   "source": [
    "cell_metadata"
   ]
  },
  {
   "cell_type": "code",
   "execution_count": 14,
   "metadata": {},
   "outputs": [
    {
     "data": {
      "text/plain": [
       "class: cell_data_set \n",
       "dim: 20222 6188 \n",
       "metadata(1): cds_version\n",
       "assays(1): counts\n",
       "rownames(20222): WBGene00010957 WBGene00010958 ... WBGene00021594\n",
       "  WBGene00007064\n",
       "rowData names(3): id gene_short_name num_cells_expressed\n",
       "colnames(6188): AAACCTGCAAGACGTG-300.1.1 AAACCTGGTGTGAATA-300.1.1 ...\n",
       "  TGCGGGTAGTACTTGC-b02 TTTGTCAAGTACACCT-b02\n",
       "colData names(19): cell n.umi ... bg.b01.loading bg.b02.loading\n",
       "reducedDimNames(0):\n",
       "spikeNames(0):\n",
       "altExpNames(0):"
      ]
     },
     "metadata": {},
     "output_type": "display_data"
    }
   ],
   "source": [
    "cds"
   ]
  },
  {
   "cell_type": "code",
   "execution_count": 16,
   "metadata": {},
   "outputs": [
    {
     "data": {
      "text/html": [
       "<ol class=list-inline>\n",
       "\t<li>'cell'</li>\n",
       "\t<li>'n.umi'</li>\n",
       "\t<li>'time.point'</li>\n",
       "\t<li>'batch'</li>\n",
       "\t<li>'Size_Factor'</li>\n",
       "\t<li>'raw.embryo.time'</li>\n",
       "\t<li>'embryo.time'</li>\n",
       "\t<li>'embryo.time.bin'</li>\n",
       "\t<li>'raw.embryo.time.bin'</li>\n",
       "\t<li>'lineage'</li>\n",
       "\t<li>'num_genes_expressed'</li>\n",
       "\t<li>'cell.type'</li>\n",
       "\t<li>'bg.300.loading'</li>\n",
       "\t<li>'bg.400.loading'</li>\n",
       "\t<li>'bg.500.1.loading'</li>\n",
       "\t<li>'bg.500.2.loading'</li>\n",
       "\t<li>'bg.r17.loading'</li>\n",
       "\t<li>'bg.b01.loading'</li>\n",
       "\t<li>'bg.b02.loading'</li>\n",
       "</ol>\n"
      ],
      "text/latex": [
       "\\begin{enumerate*}\n",
       "\\item 'cell'\n",
       "\\item 'n.umi'\n",
       "\\item 'time.point'\n",
       "\\item 'batch'\n",
       "\\item 'Size\\_Factor'\n",
       "\\item 'raw.embryo.time'\n",
       "\\item 'embryo.time'\n",
       "\\item 'embryo.time.bin'\n",
       "\\item 'raw.embryo.time.bin'\n",
       "\\item 'lineage'\n",
       "\\item 'num\\_genes\\_expressed'\n",
       "\\item 'cell.type'\n",
       "\\item 'bg.300.loading'\n",
       "\\item 'bg.400.loading'\n",
       "\\item 'bg.500.1.loading'\n",
       "\\item 'bg.500.2.loading'\n",
       "\\item 'bg.r17.loading'\n",
       "\\item 'bg.b01.loading'\n",
       "\\item 'bg.b02.loading'\n",
       "\\end{enumerate*}\n"
      ],
      "text/markdown": [
       "1. 'cell'\n",
       "2. 'n.umi'\n",
       "3. 'time.point'\n",
       "4. 'batch'\n",
       "5. 'Size_Factor'\n",
       "6. 'raw.embryo.time'\n",
       "7. 'embryo.time'\n",
       "8. 'embryo.time.bin'\n",
       "9. 'raw.embryo.time.bin'\n",
       "10. 'lineage'\n",
       "11. 'num_genes_expressed'\n",
       "12. 'cell.type'\n",
       "13. 'bg.300.loading'\n",
       "14. 'bg.400.loading'\n",
       "15. 'bg.500.1.loading'\n",
       "16. 'bg.500.2.loading'\n",
       "17. 'bg.r17.loading'\n",
       "18. 'bg.b01.loading'\n",
       "19. 'bg.b02.loading'\n",
       "\n",
       "\n"
      ],
      "text/plain": [
       " [1] \"cell\"                \"n.umi\"               \"time.point\"         \n",
       " [4] \"batch\"               \"Size_Factor\"         \"raw.embryo.time\"    \n",
       " [7] \"embryo.time\"         \"embryo.time.bin\"     \"raw.embryo.time.bin\"\n",
       "[10] \"lineage\"             \"num_genes_expressed\" \"cell.type\"          \n",
       "[13] \"bg.300.loading\"      \"bg.400.loading\"      \"bg.500.1.loading\"   \n",
       "[16] \"bg.500.2.loading\"    \"bg.r17.loading\"      \"bg.b01.loading\"     \n",
       "[19] \"bg.b02.loading\"     "
      ]
     },
     "metadata": {},
     "output_type": "display_data"
    }
   ],
   "source": [
    "cell_metadata %>% colnames"
   ]
  },
  {
   "cell_type": "code",
   "execution_count": 17,
   "metadata": {},
   "outputs": [
    {
     "name": "stderr",
     "output_type": "stream",
     "text": [
      "Aligning cells from different batches using Batchelor. \n",
      "Please remember to cite:\n",
      "\t Haghverdi L, Lun ATL, Morgan MD, Marioni JC (2018). 'Batch effects in single-cell RNA-sequencing data are corrected by matching mutual nearest neighbors.' Nat. Biotechnol., 36(5), 421-427. doi: 10.1038/nbt.4091\n",
      "Warning message:\n",
      "“'pc.input=TRUE' and 'use.dimred=TRUE' are deprecated.\n",
      "Use 'reducedMNN' instead.”Warning message in (function (query, X, clust_centers, clust_info, dtype, nn, get_index, :\n",
      "“tied distances detected in nearest-neighbor calculation”"
     ]
    }
   ],
   "source": [
    "cds <- preprocess_cds(cds, num_dim = 50)\n",
    "cds <- align_cds(cds, alignment_group = \"batch\", residual_model_formula_str = \"~ bg.300.loading + bg.400.loading + bg.500.1.loading + bg.500.2.loading + bg.r17.loading + bg.b01.loading + bg.b02.loading\")"
   ]
  },
  {
   "cell_type": "code",
   "execution_count": null,
   "metadata": {},
   "outputs": [
    {
     "name": "stderr",
     "output_type": "stream",
     "text": [
      "No preprocess_method specified, and aligned coordinates have been computed previously. Using preprocess_method = 'Aligned'\n"
     ]
    }
   ],
   "source": [
    "cds <- reduce_dimension(cds)\n",
    "plot_cells(cds, label_groups_by_cluster=FALSE,  color_cells_by = \"cell.type\")"
   ]
  },
  {
   "cell_type": "code",
   "execution_count": 1,
   "metadata": {},
   "outputs": [
    {
     "data": {
      "text/html": [
       "2"
      ],
      "text/latex": [
       "2"
      ],
      "text/markdown": [
       "2"
      ],
      "text/plain": [
       "[1] 2"
      ]
     },
     "metadata": {},
     "output_type": "display_data"
    }
   ],
   "source": [
    "1+1"
   ]
  },
  {
   "cell_type": "code",
   "execution_count": null,
   "metadata": {},
   "outputs": [],
   "source": []
  }
 ],
 "metadata": {
  "kernelspec": {
   "display_name": "R_Seurat",
   "language": "R",
   "name": "seurat"
  },
  "language_info": {
   "codemirror_mode": "r",
   "file_extension": ".r",
   "mimetype": "text/x-r-source",
   "name": "R",
   "pygments_lexer": "r",
   "version": "3.6.1"
  }
 },
 "nbformat": 4,
 "nbformat_minor": 2
}
