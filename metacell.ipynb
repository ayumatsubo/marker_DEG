{
 "cells": [
  {
   "cell_type": "code",
   "execution_count": 1,
   "metadata": {},
   "outputs": [
    {
     "name": "stderr",
     "output_type": "stream",
     "text": [
      "Warning message:\n",
      "“replacing previous import ‘dplyr::union’ by ‘igraph::union’ when loading ‘metacell’”Warning message:\n",
      "“replacing previous import ‘dplyr::as_data_frame’ by ‘igraph::as_data_frame’ when loading ‘metacell’”Warning message:\n",
      "“replacing previous import ‘dplyr::groups’ by ‘igraph::groups’ when loading ‘metacell’”"
     ]
    }
   ],
   "source": [
    "library('metacell')"
   ]
  },
  {
   "cell_type": "code",
   "execution_count": 1,
   "metadata": {},
   "outputs": [
    {
     "name": "stderr",
     "output_type": "stream",
     "text": [
      "Loading required package: SummarizedExperiment\n",
      "Loading required package: GenomicRanges\n",
      "Loading required package: stats4\n",
      "Loading required package: BiocGenerics\n",
      "Loading required package: parallel\n",
      "\n",
      "Attaching package: ‘BiocGenerics’\n",
      "\n",
      "The following objects are masked from ‘package:parallel’:\n",
      "\n",
      "    clusterApply, clusterApplyLB, clusterCall, clusterEvalQ,\n",
      "    clusterExport, clusterMap, parApply, parCapply, parLapply,\n",
      "    parLapplyLB, parRapply, parSapply, parSapplyLB\n",
      "\n",
      "The following objects are masked from ‘package:stats’:\n",
      "\n",
      "    IQR, mad, sd, var, xtabs\n",
      "\n",
      "The following objects are masked from ‘package:base’:\n",
      "\n",
      "    anyDuplicated, append, as.data.frame, basename, cbind, colMeans,\n",
      "    colnames, colSums, dirname, do.call, duplicated, eval, evalq,\n",
      "    Filter, Find, get, grep, grepl, intersect, is.unsorted, lapply,\n",
      "    lengths, Map, mapply, match, mget, order, paste, pmax, pmax.int,\n",
      "    pmin, pmin.int, Position, rank, rbind, Reduce, rowMeans, rownames,\n",
      "    rowSums, sapply, setdiff, sort, table, tapply, union, unique,\n",
      "    unsplit, which, which.max, which.min\n",
      "\n",
      "Loading required package: S4Vectors\n",
      "\n",
      "Attaching package: ‘S4Vectors’\n",
      "\n",
      "The following object is masked from ‘package:base’:\n",
      "\n",
      "    expand.grid\n",
      "\n",
      "Loading required package: IRanges\n",
      "Loading required package: GenomeInfoDb\n",
      "Loading required package: Biobase\n",
      "Welcome to Bioconductor\n",
      "\n",
      "    Vignettes contain introductory material; view with\n",
      "    'browseVignettes()'. To cite Bioconductor, see\n",
      "    'citation(\"Biobase\")', and for packages 'citation(\"pkgname\")'.\n",
      "\n",
      "Loading required package: DelayedArray\n",
      "Loading required package: matrixStats\n",
      "\n",
      "Attaching package: ‘matrixStats’\n",
      "\n",
      "The following objects are masked from ‘package:Biobase’:\n",
      "\n",
      "    anyMissing, rowMedians\n",
      "\n",
      "Loading required package: BiocParallel\n",
      "\n",
      "Attaching package: ‘DelayedArray’\n",
      "\n",
      "The following objects are masked from ‘package:matrixStats’:\n",
      "\n",
      "    colMaxs, colMins, colRanges, rowMaxs, rowMins, rowRanges\n",
      "\n",
      "The following objects are masked from ‘package:base’:\n",
      "\n",
      "    aperm, apply\n",
      "\n"
     ]
    }
   ],
   "source": [
    "library('SingleCellExperiment')\n",
    "library('Seurat')"
   ]
  },
  {
   "cell_type": "code",
   "execution_count": 2,
   "metadata": {},
   "outputs": [],
   "source": [
    "load(\"Normal_Total_gastric_all_markers.RData\")"
   ]
  },
  {
   "cell_type": "code",
   "execution_count": 4,
   "metadata": {},
   "outputs": [],
   "source": [
    "load('/data/komura//project//scRNA-seq_gastric_cancer//notebooks/Normal_Total_gastric.RData')"
   ]
  },
  {
   "cell_type": "code",
   "execution_count": 5,
   "metadata": {},
   "outputs": [],
   "source": [
    "# switch to integrated assay. The variable features of this assay are\n",
    "# automatically set during IntegrateData\n",
    "DefaultAssay(object = data.integrated) <- \"integrated\"\n",
    "\n",
    "# Run the standard workflow for visualization and clustering\n",
    "data.integrated <- ScaleData(object = data.integrated, verbose = FALSE)"
   ]
  },
  {
   "cell_type": "code",
   "execution_count": 6,
   "metadata": {},
   "outputs": [],
   "source": [
    "# geneの発現量の平均値をとる\n",
    "AddGeneSetScore <- function(data.integrated, genes){\n",
    "    sum.exp <- rowSums(FetchData(object = data.integrated,\n",
    "                                   vars = genes),\n",
    "                          na.rm = TRUE)\n",
    "\n",
    "    if (all(names(x = sum.exp) == rownames(x = data.integrated@meta.data))) {\n",
    "      cat(\"Cell names order match in 'mean.exp' and 'object@meta.data':\\n\", \n",
    "          \"adding gene set mean expression values in 'object@meta.data$gene.set.score'\")\n",
    "      return (sum.exp)\n",
    "    }\n",
    "}"
   ]
  },
  {
   "cell_type": "code",
   "execution_count": 7,
   "metadata": {},
   "outputs": [
    {
     "data": {
      "text/html": [
       "'Seurat'"
      ],
      "text/latex": [
       "'Seurat'"
      ],
      "text/markdown": [
       "'Seurat'"
      ],
      "text/plain": [
       "[1] \"Seurat\"\n",
       "attr(,\"package\")\n",
       "[1] \"Seurat\""
      ]
     },
     "metadata": {},
     "output_type": "display_data"
    }
   ],
   "source": [
    "class(data.integrated)"
   ]
  },
  {
   "cell_type": "code",
   "execution_count": 9,
   "metadata": {},
   "outputs": [
    {
     "data": {
      "text/plain": [
       "$RNA\n",
       "Assay data with 16697 features for 13172 cells\n",
       "First 10 features:\n",
       " AL669831.5, LINC00115, FAM41C, AL645608.1, SAMD11, NOC2L, KLHL17,\n",
       "PLEKHN1, PERM1, HES4 \n",
       "\n",
       "$integrated\n",
       "Assay data with 2000 features for 13172 cells\n",
       "Top 10 variable features:\n",
       " HBA2, HBA1, IGLC3, IGLL5, IGHG3, LIPF, IGHG1, ATP4A, PGC, IGHM \n"
      ]
     },
     "metadata": {},
     "output_type": "display_data"
    }
   ],
   "source": [
    "data.integrated@assays"
   ]
  },
  {
   "cell_type": "code",
   "execution_count": 8,
   "metadata": {},
   "outputs": [
    {
     "ename": "ERROR",
     "evalue": "Error in .validate_names(rownames, ans_rownames, \"assay rownames()\", \"rowData rownames() / rowRanges names()\"): assay rownames() must be NULL or identical to rowData rownames() /\n  rowRanges names()\n",
     "output_type": "error",
     "traceback": [
      "Error in .validate_names(rownames, ans_rownames, \"assay rownames()\", \"rowData rownames() / rowRanges names()\"): assay rownames() must be NULL or identical to rowData rownames() /\n  rowRanges names()\nTraceback:\n",
      "1. as.SingleCellExperiment(x = data.integrated)",
      "2. as.SingleCellExperiment.Seurat(x = data.integrated)",
      "3. SingleCellExperiment::SingleCellExperiment(assays = list(counts = GetAssayData(object = x, \n .     assay = assay, slot = \"counts\"), logcounts = GetAssayData(object = x, \n .     assay = assay, slot = \"data\")))",
      "4. SummarizedExperiment(...)",
      "5. SummarizedExperiment(...)",
      "6. SummarizedExperiment(do.call(SimpleList, assays), ...)",
      "7. SummarizedExperiment(do.call(SimpleList, assays), ...)",
      "8. .local(assays, ...)",
      "9. .validate_names(rownames, ans_rownames, \"assay rownames()\", \"rowData rownames() / rowRanges names()\")",
      "10. stop(wmsg(what1, \" must be NULL or identical to \", what2))"
     ]
    }
   ],
   "source": [
    "data.sce <- as.SingleCellExperiment(x=data.integrated)"
   ]
  },
  {
   "cell_type": "code",
   "execution_count": null,
   "metadata": {},
   "outputs": [],
   "source": [
    "Conv"
   ]
  }
 ],
 "metadata": {
  "kernelspec": {
   "display_name": "R",
   "language": "R",
   "name": "ir"
  },
  "language_info": {
   "codemirror_mode": "r",
   "file_extension": ".r",
   "mimetype": "text/x-r-source",
   "name": "R",
   "pygments_lexer": "r",
   "version": "3.5.1"
  }
 },
 "nbformat": 4,
 "nbformat_minor": 2
}
